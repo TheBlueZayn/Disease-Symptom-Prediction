{
 "cells": [
  {
   "cell_type": "markdown",
   "metadata": {},
   "source": [
    "#### Import Libraries"
   ]
  },
  {
   "cell_type": "code",
   "execution_count": 1,
   "metadata": {},
   "outputs": [],
   "source": [
    "import pandas as pd\n",
    "import numpy as np\n",
    "import matplotlib.pyplot as plt\n",
    "import plotly.express as px\n",
    "from sklearn.preprocessing import StandardScaler\n",
    "from sklearn.model_selection import train_test_split\n",
    "from sklearn.metrics import classification_report,confusion_matrix,accuracy_score\n",
    "from sklearn.metrics import precision_score, recall_score, f1_score\n",
    "from sklearn.preprocessing import LabelEncoder\n",
    "import streamlit as st\n",
    "from sklearn.preprocessing import StandardScaler\n",
    "from sklearn.model_selection import train_test_split\n",
    "from sklearn.metrics import classification_report,confusion_matrix,accuracy_score\n",
    "from sklearn.metrics import precision_score, recall_score, f1_score\n",
    "from sklearn.ensemble import RandomForestClassifier\n",
    "\n",
    "import tensorflow as tf\n",
    "from tensorflow.keras.layers import Dense\n",
    "from tensorflow.keras.models import Sequential\n",
    "from tensorflow.keras.losses import SparseCategoricalCrossentropy\n"
   ]
  },
  {
   "cell_type": "markdown",
   "metadata": {},
   "source": [
    "#### Load Datasets"
   ]
  },
  {
   "cell_type": "code",
   "execution_count": 15,
   "metadata": {},
   "outputs": [
    {
     "name": "stdout",
     "output_type": "stream",
     "text": [
      "Dataset shape is: (4925, 18)\n"
     ]
    },
    {
     "data": {
      "text/html": [
       "<div>\n",
       "<style scoped>\n",
       "    .dataframe tbody tr th:only-of-type {\n",
       "        vertical-align: middle;\n",
       "    }\n",
       "\n",
       "    .dataframe tbody tr th {\n",
       "        vertical-align: top;\n",
       "    }\n",
       "\n",
       "    .dataframe thead th {\n",
       "        text-align: right;\n",
       "    }\n",
       "</style>\n",
       "<table border=\"1\" class=\"dataframe\">\n",
       "  <thead>\n",
       "    <tr style=\"text-align: right;\">\n",
       "      <th></th>\n",
       "      <th>Disease</th>\n",
       "      <th>Symptom_1</th>\n",
       "      <th>Symptom_2</th>\n",
       "      <th>Symptom_3</th>\n",
       "      <th>Symptom_4</th>\n",
       "      <th>Symptom_5</th>\n",
       "      <th>Symptom_6</th>\n",
       "      <th>Symptom_7</th>\n",
       "      <th>Symptom_8</th>\n",
       "      <th>Symptom_9</th>\n",
       "      <th>Symptom_10</th>\n",
       "      <th>Symptom_11</th>\n",
       "      <th>Symptom_12</th>\n",
       "      <th>Symptom_13</th>\n",
       "      <th>Symptom_14</th>\n",
       "      <th>Symptom_15</th>\n",
       "      <th>Symptom_16</th>\n",
       "      <th>Symptom_17</th>\n",
       "    </tr>\n",
       "  </thead>\n",
       "  <tbody>\n",
       "    <tr>\n",
       "      <th>0</th>\n",
       "      <td>Acne</td>\n",
       "      <td>skin_rash</td>\n",
       "      <td>pus_filled_pimples</td>\n",
       "      <td>blackheads</td>\n",
       "      <td>scurring</td>\n",
       "      <td>NaN</td>\n",
       "      <td>NaN</td>\n",
       "      <td>NaN</td>\n",
       "      <td>NaN</td>\n",
       "      <td>NaN</td>\n",
       "      <td>NaN</td>\n",
       "      <td>NaN</td>\n",
       "      <td>NaN</td>\n",
       "      <td>NaN</td>\n",
       "      <td>NaN</td>\n",
       "      <td>NaN</td>\n",
       "      <td>NaN</td>\n",
       "      <td>NaN</td>\n",
       "    </tr>\n",
       "    <tr>\n",
       "      <th>1</th>\n",
       "      <td>Acne</td>\n",
       "      <td>skin_rash</td>\n",
       "      <td>pus_filled_pimples</td>\n",
       "      <td>blackheads</td>\n",
       "      <td>scurring</td>\n",
       "      <td>NaN</td>\n",
       "      <td>NaN</td>\n",
       "      <td>NaN</td>\n",
       "      <td>NaN</td>\n",
       "      <td>NaN</td>\n",
       "      <td>NaN</td>\n",
       "      <td>NaN</td>\n",
       "      <td>NaN</td>\n",
       "      <td>NaN</td>\n",
       "      <td>NaN</td>\n",
       "      <td>NaN</td>\n",
       "      <td>NaN</td>\n",
       "      <td>NaN</td>\n",
       "    </tr>\n",
       "    <tr>\n",
       "      <th>2</th>\n",
       "      <td>Acne</td>\n",
       "      <td>pus_filled_pimples</td>\n",
       "      <td>blackheads</td>\n",
       "      <td>scurring</td>\n",
       "      <td>NaN</td>\n",
       "      <td>NaN</td>\n",
       "      <td>NaN</td>\n",
       "      <td>NaN</td>\n",
       "      <td>NaN</td>\n",
       "      <td>NaN</td>\n",
       "      <td>NaN</td>\n",
       "      <td>NaN</td>\n",
       "      <td>NaN</td>\n",
       "      <td>NaN</td>\n",
       "      <td>NaN</td>\n",
       "      <td>NaN</td>\n",
       "      <td>NaN</td>\n",
       "      <td>NaN</td>\n",
       "    </tr>\n",
       "    <tr>\n",
       "      <th>3</th>\n",
       "      <td>Acne</td>\n",
       "      <td>skin_rash</td>\n",
       "      <td>blackheads</td>\n",
       "      <td>scurring</td>\n",
       "      <td>NaN</td>\n",
       "      <td>NaN</td>\n",
       "      <td>NaN</td>\n",
       "      <td>NaN</td>\n",
       "      <td>NaN</td>\n",
       "      <td>NaN</td>\n",
       "      <td>NaN</td>\n",
       "      <td>NaN</td>\n",
       "      <td>NaN</td>\n",
       "      <td>NaN</td>\n",
       "      <td>NaN</td>\n",
       "      <td>NaN</td>\n",
       "      <td>NaN</td>\n",
       "      <td>NaN</td>\n",
       "    </tr>\n",
       "    <tr>\n",
       "      <th>4</th>\n",
       "      <td>Acne</td>\n",
       "      <td>skin_rash</td>\n",
       "      <td>pus_filled_pimples</td>\n",
       "      <td>scurring</td>\n",
       "      <td>NaN</td>\n",
       "      <td>NaN</td>\n",
       "      <td>NaN</td>\n",
       "      <td>NaN</td>\n",
       "      <td>NaN</td>\n",
       "      <td>NaN</td>\n",
       "      <td>NaN</td>\n",
       "      <td>NaN</td>\n",
       "      <td>NaN</td>\n",
       "      <td>NaN</td>\n",
       "      <td>NaN</td>\n",
       "      <td>NaN</td>\n",
       "      <td>NaN</td>\n",
       "      <td>NaN</td>\n",
       "    </tr>\n",
       "  </tbody>\n",
       "</table>\n",
       "</div>"
      ],
      "text/plain": [
       "  Disease           Symptom_1           Symptom_2   Symptom_3 Symptom_4  \\\n",
       "0    Acne           skin_rash  pus_filled_pimples  blackheads  scurring   \n",
       "1    Acne           skin_rash  pus_filled_pimples  blackheads  scurring   \n",
       "2    Acne  pus_filled_pimples          blackheads    scurring       NaN   \n",
       "3    Acne           skin_rash          blackheads    scurring       NaN   \n",
       "4    Acne           skin_rash  pus_filled_pimples    scurring       NaN   \n",
       "\n",
       "  Symptom_5 Symptom_6 Symptom_7 Symptom_8 Symptom_9 Symptom_10 Symptom_11  \\\n",
       "0       NaN       NaN       NaN       NaN       NaN        NaN        NaN   \n",
       "1       NaN       NaN       NaN       NaN       NaN        NaN        NaN   \n",
       "2       NaN       NaN       NaN       NaN       NaN        NaN        NaN   \n",
       "3       NaN       NaN       NaN       NaN       NaN        NaN        NaN   \n",
       "4       NaN       NaN       NaN       NaN       NaN        NaN        NaN   \n",
       "\n",
       "  Symptom_12 Symptom_13 Symptom_14 Symptom_15 Symptom_16 Symptom_17  \n",
       "0        NaN        NaN        NaN        NaN        NaN        NaN  \n",
       "1        NaN        NaN        NaN        NaN        NaN        NaN  \n",
       "2        NaN        NaN        NaN        NaN        NaN        NaN  \n",
       "3        NaN        NaN        NaN        NaN        NaN        NaN  \n",
       "4        NaN        NaN        NaN        NaN        NaN        NaN  "
      ]
     },
     "execution_count": 15,
     "metadata": {},
     "output_type": "execute_result"
    }
   ],
   "source": [
    "df_1 = pd.read_csv(\"dataset.csv\")\n",
    "\n",
    "print(\"Dataset shape is:\", df_1.shape)\n",
    "\n",
    "df_1.head()"
   ]
  },
  {
   "cell_type": "code",
   "execution_count": 97,
   "metadata": {},
   "outputs": [],
   "source": [
    "def uniq_symp(df):\n",
    "    a = df[\"Symptom_1\"].unique().tolist()\n",
    "    b = df[\"Symptom_2\"].unique().tolist()\n",
    "    c = df[\"Symptom_3\"].unique().tolist()\n",
    "    d = df[\"Symptom_4\"].unique().tolist()\n",
    "    e = df[\"Symptom_5\"].unique().tolist()\n",
    "    f = df[\"Symptom_6\"].unique().tolist()\n",
    "    g = df[\"Symptom_7\"].unique().tolist()\n",
    "    h = df[\"Symptom_8\"].unique().tolist()\n",
    "    i = df[\"Symptom_9\"].unique().tolist()\n",
    "    j = df[\"Symptom_10\"].unique().tolist()\n",
    "    k = df[\"Symptom_11\"].unique().tolist()\n",
    "    l = df[\"Symptom_12\"].unique().tolist()\n",
    "    m= df[\"Symptom_13\"].unique().tolist()\n",
    "    n = df[\"Symptom_14\"].unique().tolist()\n",
    "    o = df[\"Symptom_15\"].unique().tolist()\n",
    "    p = df[\"Symptom_16\"].unique().tolist()\n",
    "    q= df[\"Symptom_17\"].unique().tolist()\n",
    "\n",
    "\n",
    "\n",
    "    z = a+b+c+d+e+f+g+h+i+j+k+l+m+o+p+q\n",
    "    symp = {\"Symptoms\": z}\n",
    "    df = pd.DataFrame(symp, index=range(len(z)))\n",
    "    uniq = df[\"Symptoms\"].unique().tolist()\n",
    "\n",
    "    return uniq"
   ]
  },
  {
   "cell_type": "code",
   "execution_count": 3,
   "metadata": {},
   "outputs": [
    {
     "name": "stdout",
     "output_type": "stream",
     "text": [
      "Description shape is: (41, 2)\n"
     ]
    },
    {
     "data": {
      "text/html": [
       "<div>\n",
       "<style scoped>\n",
       "    .dataframe tbody tr th:only-of-type {\n",
       "        vertical-align: middle;\n",
       "    }\n",
       "\n",
       "    .dataframe tbody tr th {\n",
       "        vertical-align: top;\n",
       "    }\n",
       "\n",
       "    .dataframe thead th {\n",
       "        text-align: right;\n",
       "    }\n",
       "</style>\n",
       "<table border=\"1\" class=\"dataframe\">\n",
       "  <thead>\n",
       "    <tr style=\"text-align: right;\">\n",
       "      <th></th>\n",
       "      <th>Disease</th>\n",
       "      <th>Description</th>\n",
       "    </tr>\n",
       "  </thead>\n",
       "  <tbody>\n",
       "    <tr>\n",
       "      <th>0</th>\n",
       "      <td>Drug_Reaction</td>\n",
       "      <td>An adverse drug reaction (ADR) is an injury ca...</td>\n",
       "    </tr>\n",
       "    <tr>\n",
       "      <th>1</th>\n",
       "      <td>Malaria</td>\n",
       "      <td>An infectious disease caused by protozoan para...</td>\n",
       "    </tr>\n",
       "    <tr>\n",
       "      <th>2</th>\n",
       "      <td>Allergy</td>\n",
       "      <td>An allergy is an immune system response to a f...</td>\n",
       "    </tr>\n",
       "    <tr>\n",
       "      <th>3</th>\n",
       "      <td>Hypothyroidism</td>\n",
       "      <td>Hypothyroidism, also called underactive thyroi...</td>\n",
       "    </tr>\n",
       "    <tr>\n",
       "      <th>4</th>\n",
       "      <td>Psoriasis</td>\n",
       "      <td>Psoriasis is a common skin disorder that forms...</td>\n",
       "    </tr>\n",
       "  </tbody>\n",
       "</table>\n",
       "</div>"
      ],
      "text/plain": [
       "          Disease                                        Description\n",
       "0   Drug_Reaction  An adverse drug reaction (ADR) is an injury ca...\n",
       "1         Malaria  An infectious disease caused by protozoan para...\n",
       "2         Allergy  An allergy is an immune system response to a f...\n",
       "3  Hypothyroidism  Hypothyroidism, also called underactive thyroi...\n",
       "4       Psoriasis  Psoriasis is a common skin disorder that forms..."
      ]
     },
     "execution_count": 3,
     "metadata": {},
     "output_type": "execute_result"
    }
   ],
   "source": [
    "df_2 = pd.read_csv(\"symptom_Description.csv\")\n",
    "\n",
    "print(\"Description shape is:\", df_2.shape)\n",
    "\n",
    "df_2.head()"
   ]
  },
  {
   "cell_type": "code",
   "execution_count": 4,
   "metadata": {},
   "outputs": [
    {
     "name": "stdout",
     "output_type": "stream",
     "text": [
      "Precaution shape is: (41, 5)\n"
     ]
    },
    {
     "data": {
      "text/html": [
       "<div>\n",
       "<style scoped>\n",
       "    .dataframe tbody tr th:only-of-type {\n",
       "        vertical-align: middle;\n",
       "    }\n",
       "\n",
       "    .dataframe tbody tr th {\n",
       "        vertical-align: top;\n",
       "    }\n",
       "\n",
       "    .dataframe thead th {\n",
       "        text-align: right;\n",
       "    }\n",
       "</style>\n",
       "<table border=\"1\" class=\"dataframe\">\n",
       "  <thead>\n",
       "    <tr style=\"text-align: right;\">\n",
       "      <th></th>\n",
       "      <th>Disease</th>\n",
       "      <th>Precaution_1</th>\n",
       "      <th>Precaution_2</th>\n",
       "      <th>Precaution_3</th>\n",
       "      <th>Precaution_4</th>\n",
       "    </tr>\n",
       "  </thead>\n",
       "  <tbody>\n",
       "    <tr>\n",
       "      <th>0</th>\n",
       "      <td>Drug_Reaction</td>\n",
       "      <td>stop irritation</td>\n",
       "      <td>consult nearest hospital</td>\n",
       "      <td>stop taking drug</td>\n",
       "      <td>follow up</td>\n",
       "    </tr>\n",
       "    <tr>\n",
       "      <th>1</th>\n",
       "      <td>Malaria</td>\n",
       "      <td>Consult nearest hospital</td>\n",
       "      <td>avoid oily food</td>\n",
       "      <td>avoid non veg food</td>\n",
       "      <td>keep mosquitos out</td>\n",
       "    </tr>\n",
       "    <tr>\n",
       "      <th>2</th>\n",
       "      <td>Allergy</td>\n",
       "      <td>apply calamine</td>\n",
       "      <td>cover area with bandage</td>\n",
       "      <td>use ice to compress itching</td>\n",
       "      <td>know and avoid allergens</td>\n",
       "    </tr>\n",
       "    <tr>\n",
       "      <th>3</th>\n",
       "      <td>Hypothyroidism</td>\n",
       "      <td>reduce stress</td>\n",
       "      <td>exercise</td>\n",
       "      <td>eat healthy</td>\n",
       "      <td>get proper sleep</td>\n",
       "    </tr>\n",
       "    <tr>\n",
       "      <th>4</th>\n",
       "      <td>Psoriasis</td>\n",
       "      <td>wash hands with warm soapy water</td>\n",
       "      <td>stop bleeding using pressure</td>\n",
       "      <td>consult doctor</td>\n",
       "      <td>salt baths</td>\n",
       "    </tr>\n",
       "  </tbody>\n",
       "</table>\n",
       "</div>"
      ],
      "text/plain": [
       "          Disease                      Precaution_1  \\\n",
       "0   Drug_Reaction                   stop irritation   \n",
       "1         Malaria          Consult nearest hospital   \n",
       "2         Allergy                    apply calamine   \n",
       "3  Hypothyroidism                     reduce stress   \n",
       "4       Psoriasis  wash hands with warm soapy water   \n",
       "\n",
       "                   Precaution_2                 Precaution_3  \\\n",
       "0      consult nearest hospital             stop taking drug   \n",
       "1               avoid oily food           avoid non veg food   \n",
       "2       cover area with bandage  use ice to compress itching   \n",
       "3                      exercise                  eat healthy   \n",
       "4  stop bleeding using pressure               consult doctor   \n",
       "\n",
       "               Precaution_4  \n",
       "0                 follow up  \n",
       "1        keep mosquitos out  \n",
       "2  know and avoid allergens  \n",
       "3          get proper sleep  \n",
       "4                salt baths  "
      ]
     },
     "execution_count": 4,
     "metadata": {},
     "output_type": "execute_result"
    }
   ],
   "source": [
    "df_3 = pd.read_csv(\"symptom_precaution.csv\")\n",
    "\n",
    "print(\"Precaution shape is:\", df_3.shape)\n",
    "#df_3.fillna()\n",
    "df_3.head()"
   ]
  },
  {
   "cell_type": "code",
   "execution_count": 13,
   "metadata": {},
   "outputs": [],
   "source": [
    "\"\"\"A function that takes in a disease name , gives you a discription about the disease and precautions to take.\"\"\"\n",
    "def drug_info(disease):\n",
    "    d = disease\n",
    "\n",
    "    # Print disease description\n",
    "    print(\"The predicted disease is:\", d.strip().replace(\"_\", \" \"))\n",
    "    print(\" \")\n",
    "    print(\"Description of\", d.strip().replace(\"_\", \" \"),\":\")\n",
    "    print(df_2[df_2[\"Disease\"] == d][\"Description\"].item())\n",
    "    print(\" \")\n",
    "\n",
    "    # Print Precautions to take\n",
    "    print(\"Precautions to take are:\")\n",
    "    print(df_3[df_3[\"Disease\"] == d][\"Precaution_1\"].item().title()) \n",
    "    print(df_3[df_3[\"Disease\"] == d][\"Precaution_2\"].item().title())\n",
    "    print(df_3[df_3[\"Disease\"] == d][\"Precaution_3\"].item().title())\n",
    "    print(df_3[df_3[\"Disease\"] == d][\"Precaution_4\"].item().title())"
   ]
  },
  {
   "cell_type": "code",
   "execution_count": 14,
   "metadata": {},
   "outputs": [
    {
     "name": "stdout",
     "output_type": "stream",
     "text": [
      "The predicted disease is: Malaria\n",
      " \n",
      "Description of Malaria :\n",
      "An infectious disease caused by protozoan parasites from the Plasmodium family that can be transmitted by the bite of the Anopheles mosquito or by a contaminated needle or transfusion. Falciparum malaria is the most deadly type.\n",
      " \n",
      "Precautions to take are:\n",
      "Consult Nearest Hospital\n",
      "Avoid Oily Food\n",
      "Avoid Non Veg Food\n",
      "Keep Mosquitos Out\n"
     ]
    }
   ],
   "source": [
    "drug_info(\"Malaria\")"
   ]
  },
  {
   "cell_type": "code",
   "execution_count": 18,
   "metadata": {},
   "outputs": [
    {
     "name": "stdout",
     "output_type": "stream",
     "text": [
      "Severity shape is: (133, 2)\n"
     ]
    },
    {
     "data": {
      "text/html": [
       "<div>\n",
       "<style scoped>\n",
       "    .dataframe tbody tr th:only-of-type {\n",
       "        vertical-align: middle;\n",
       "    }\n",
       "\n",
       "    .dataframe tbody tr th {\n",
       "        vertical-align: top;\n",
       "    }\n",
       "\n",
       "    .dataframe thead th {\n",
       "        text-align: right;\n",
       "    }\n",
       "</style>\n",
       "<table border=\"1\" class=\"dataframe\">\n",
       "  <thead>\n",
       "    <tr style=\"text-align: right;\">\n",
       "      <th></th>\n",
       "      <th>Symptom</th>\n",
       "      <th>weight</th>\n",
       "    </tr>\n",
       "  </thead>\n",
       "  <tbody>\n",
       "    <tr>\n",
       "      <th>0</th>\n",
       "      <td>itching</td>\n",
       "      <td>1</td>\n",
       "    </tr>\n",
       "    <tr>\n",
       "      <th>1</th>\n",
       "      <td>skin_rash</td>\n",
       "      <td>3</td>\n",
       "    </tr>\n",
       "    <tr>\n",
       "      <th>2</th>\n",
       "      <td>nodal_skin_eruptions</td>\n",
       "      <td>4</td>\n",
       "    </tr>\n",
       "    <tr>\n",
       "      <th>3</th>\n",
       "      <td>continuous_sneezing</td>\n",
       "      <td>4</td>\n",
       "    </tr>\n",
       "    <tr>\n",
       "      <th>4</th>\n",
       "      <td>shivering</td>\n",
       "      <td>5</td>\n",
       "    </tr>\n",
       "  </tbody>\n",
       "</table>\n",
       "</div>"
      ],
      "text/plain": [
       "                Symptom  weight\n",
       "0               itching       1\n",
       "1             skin_rash       3\n",
       "2  nodal_skin_eruptions       4\n",
       "3   continuous_sneezing       4\n",
       "4             shivering       5"
      ]
     },
     "execution_count": 18,
     "metadata": {},
     "output_type": "execute_result"
    }
   ],
   "source": [
    "df_4 = pd.read_csv(\"Symptom-severity.csv\")\n",
    "\n",
    "print(\"Severity shape is:\", df_4.shape)\n",
    "\n",
    "df_4.head()"
   ]
  },
  {
   "cell_type": "code",
   "execution_count": 25,
   "metadata": {},
   "outputs": [],
   "source": [
    "def encode_symptoms(df, df_4):\n",
    "    for i in df_4.index:\n",
    "        symptom = df_4[\"Symptom\"][i]\n",
    "        weight = df_4[\"weight\"][i]\n",
    "        df = df.replace(symptom, weight)\n",
    "\n",
    "    # Replace missing values with 0\n",
    "    df = df.fillna(0)\n",
    "\n",
    "    # Additional hardcoded replacements\n",
    "    df = df.replace(\"foul_smell_of_urine\", 5)\n",
    "    df = df.replace(\"dischromic__patches\", 6)\n",
    "    df = df.replace(\"spotting__urination\", 6)\n",
    "    \n",
    "    return df"
   ]
  },
  {
   "cell_type": "code",
   "execution_count": 26,
   "metadata": {},
   "outputs": [
    {
     "data": {
      "text/html": [
       "<div>\n",
       "<style scoped>\n",
       "    .dataframe tbody tr th:only-of-type {\n",
       "        vertical-align: middle;\n",
       "    }\n",
       "\n",
       "    .dataframe tbody tr th {\n",
       "        vertical-align: top;\n",
       "    }\n",
       "\n",
       "    .dataframe thead th {\n",
       "        text-align: right;\n",
       "    }\n",
       "</style>\n",
       "<table border=\"1\" class=\"dataframe\">\n",
       "  <thead>\n",
       "    <tr style=\"text-align: right;\">\n",
       "      <th></th>\n",
       "      <th>Disease</th>\n",
       "      <th>Symptom_1</th>\n",
       "      <th>Symptom_2</th>\n",
       "      <th>Symptom_3</th>\n",
       "      <th>Symptom_4</th>\n",
       "      <th>Symptom_5</th>\n",
       "      <th>Symptom_6</th>\n",
       "      <th>Symptom_7</th>\n",
       "      <th>Symptom_8</th>\n",
       "      <th>Symptom_9</th>\n",
       "      <th>Symptom_10</th>\n",
       "      <th>Symptom_11</th>\n",
       "      <th>Symptom_12</th>\n",
       "      <th>Symptom_13</th>\n",
       "      <th>Symptom_14</th>\n",
       "      <th>Symptom_15</th>\n",
       "      <th>Symptom_16</th>\n",
       "      <th>Symptom_17</th>\n",
       "    </tr>\n",
       "  </thead>\n",
       "  <tbody>\n",
       "    <tr>\n",
       "      <th>0</th>\n",
       "      <td>Acne</td>\n",
       "      <td>3</td>\n",
       "      <td>2</td>\n",
       "      <td>2</td>\n",
       "      <td>2</td>\n",
       "      <td>0</td>\n",
       "      <td>0.0</td>\n",
       "      <td>0.0</td>\n",
       "      <td>0.0</td>\n",
       "      <td>0.0</td>\n",
       "      <td>0.0</td>\n",
       "      <td>0.0</td>\n",
       "      <td>0.0</td>\n",
       "      <td>0.0</td>\n",
       "      <td>0.0</td>\n",
       "      <td>0.0</td>\n",
       "      <td>0.0</td>\n",
       "      <td>0.0</td>\n",
       "    </tr>\n",
       "    <tr>\n",
       "      <th>1</th>\n",
       "      <td>Acne</td>\n",
       "      <td>3</td>\n",
       "      <td>2</td>\n",
       "      <td>2</td>\n",
       "      <td>2</td>\n",
       "      <td>0</td>\n",
       "      <td>0.0</td>\n",
       "      <td>0.0</td>\n",
       "      <td>0.0</td>\n",
       "      <td>0.0</td>\n",
       "      <td>0.0</td>\n",
       "      <td>0.0</td>\n",
       "      <td>0.0</td>\n",
       "      <td>0.0</td>\n",
       "      <td>0.0</td>\n",
       "      <td>0.0</td>\n",
       "      <td>0.0</td>\n",
       "      <td>0.0</td>\n",
       "    </tr>\n",
       "    <tr>\n",
       "      <th>2</th>\n",
       "      <td>Acne</td>\n",
       "      <td>2</td>\n",
       "      <td>2</td>\n",
       "      <td>2</td>\n",
       "      <td>0</td>\n",
       "      <td>0</td>\n",
       "      <td>0.0</td>\n",
       "      <td>0.0</td>\n",
       "      <td>0.0</td>\n",
       "      <td>0.0</td>\n",
       "      <td>0.0</td>\n",
       "      <td>0.0</td>\n",
       "      <td>0.0</td>\n",
       "      <td>0.0</td>\n",
       "      <td>0.0</td>\n",
       "      <td>0.0</td>\n",
       "      <td>0.0</td>\n",
       "      <td>0.0</td>\n",
       "    </tr>\n",
       "    <tr>\n",
       "      <th>3</th>\n",
       "      <td>Acne</td>\n",
       "      <td>3</td>\n",
       "      <td>2</td>\n",
       "      <td>2</td>\n",
       "      <td>0</td>\n",
       "      <td>0</td>\n",
       "      <td>0.0</td>\n",
       "      <td>0.0</td>\n",
       "      <td>0.0</td>\n",
       "      <td>0.0</td>\n",
       "      <td>0.0</td>\n",
       "      <td>0.0</td>\n",
       "      <td>0.0</td>\n",
       "      <td>0.0</td>\n",
       "      <td>0.0</td>\n",
       "      <td>0.0</td>\n",
       "      <td>0.0</td>\n",
       "      <td>0.0</td>\n",
       "    </tr>\n",
       "    <tr>\n",
       "      <th>4</th>\n",
       "      <td>Acne</td>\n",
       "      <td>3</td>\n",
       "      <td>2</td>\n",
       "      <td>2</td>\n",
       "      <td>0</td>\n",
       "      <td>0</td>\n",
       "      <td>0.0</td>\n",
       "      <td>0.0</td>\n",
       "      <td>0.0</td>\n",
       "      <td>0.0</td>\n",
       "      <td>0.0</td>\n",
       "      <td>0.0</td>\n",
       "      <td>0.0</td>\n",
       "      <td>0.0</td>\n",
       "      <td>0.0</td>\n",
       "      <td>0.0</td>\n",
       "      <td>0.0</td>\n",
       "      <td>0.0</td>\n",
       "    </tr>\n",
       "  </tbody>\n",
       "</table>\n",
       "</div>"
      ],
      "text/plain": [
       "  Disease  Symptom_1  Symptom_2  Symptom_3  Symptom_4  Symptom_5  Symptom_6  \\\n",
       "0    Acne          3          2          2          2          0        0.0   \n",
       "1    Acne          3          2          2          2          0        0.0   \n",
       "2    Acne          2          2          2          0          0        0.0   \n",
       "3    Acne          3          2          2          0          0        0.0   \n",
       "4    Acne          3          2          2          0          0        0.0   \n",
       "\n",
       "   Symptom_7  Symptom_8  Symptom_9  Symptom_10  Symptom_11  Symptom_12  \\\n",
       "0        0.0        0.0        0.0         0.0         0.0         0.0   \n",
       "1        0.0        0.0        0.0         0.0         0.0         0.0   \n",
       "2        0.0        0.0        0.0         0.0         0.0         0.0   \n",
       "3        0.0        0.0        0.0         0.0         0.0         0.0   \n",
       "4        0.0        0.0        0.0         0.0         0.0         0.0   \n",
       "\n",
       "   Symptom_13  Symptom_14  Symptom_15  Symptom_16  Symptom_17  \n",
       "0         0.0         0.0         0.0         0.0         0.0  \n",
       "1         0.0         0.0         0.0         0.0         0.0  \n",
       "2         0.0         0.0         0.0         0.0         0.0  \n",
       "3         0.0         0.0         0.0         0.0         0.0  \n",
       "4         0.0         0.0         0.0         0.0         0.0  "
      ]
     },
     "execution_count": 26,
     "metadata": {},
     "output_type": "execute_result"
    }
   ],
   "source": [
    "new_df_1 = encode_symptoms(df_1, df_4)\n",
    "new_df_1.head()"
   ]
  },
  {
   "cell_type": "code",
   "execution_count": 4,
   "metadata": {},
   "outputs": [],
   "source": [
    "train_df = pd.read_csv(\"Training.csv\")\n",
    "test_df = pd.read_csv(\"Testing.csv\")"
   ]
  },
  {
   "cell_type": "markdown",
   "metadata": {},
   "source": [
    "## Dropping the least significant parameters from the dataset"
   ]
  },
  {
   "cell_type": "code",
   "execution_count": 3,
   "metadata": {},
   "outputs": [],
   "source": [
    "y_train=train_df['prognosis']\n",
    "x_train=train_df.drop(['malaise',\n",
    " 'blurred_and_distorted_vision',\n",
    " 'phlegm',\n",
    " 'throat_irritation',\n",
    " 'redness_of_eyes',\n",
    " 'sinus_pressure',\n",
    " 'runny_nose',\n",
    " 'congestion',\n",
    " 'chest_pain',\n",
    " 'weakness_in_limbs',\n",
    " 'fast_heart_rate',\n",
    " 'pain_during_bowel_movements',\n",
    " 'pain_in_anal_region',\n",
    " 'bloody_stool',\n",
    " 'irritation_in_anus',\n",
    " 'neck_pain',\n",
    " 'dizziness',\n",
    " 'cramps',\n",
    " 'bruising',\n",
    " 'obesity',\n",
    " 'swollen_legs',\n",
    " 'swollen_blood_vessels',\n",
    " 'puffy_face_and_eyes',\n",
    " 'enlarged_thyroid',\n",
    " 'brittle_nails',\n",
    " 'swollen_extremeties',\n",
    " 'excessive_hunger',\n",
    " 'extra_marital_contacts',\n",
    " 'drying_and_tingling_lips',\n",
    " 'slurred_speech',\n",
    " 'knee_pain',\n",
    " 'hip_joint_pain',\n",
    " 'muscle_weakness',\n",
    " 'stiff_neck',\n",
    " 'swelling_joints',\n",
    " 'movement_stiffness',\n",
    " 'spinning_movements',\n",
    " 'loss_of_balance',\n",
    " 'unsteadiness',\n",
    " 'weakness_of_one_body_side',\n",
    " 'loss_of_smell',\n",
    " 'bladder_discomfort',\n",
    " 'foul_smell_of urine',\n",
    " 'continuous_feel_of_urine',\n",
    " 'passage_of_gases',\n",
    " 'internal_itching',\n",
    " 'toxic_look_(typhos)',\n",
    " 'depression',\n",
    " 'irritability',\n",
    " 'muscle_pain',\n",
    " 'altered_sensorium',\n",
    " 'red_spots_over_body',\n",
    " 'belly_pain',\n",
    " 'abnormal_menstruation',\n",
    " 'dischromic _patches',\n",
    " 'watering_from_eyes',\n",
    " 'increased_appetite',\n",
    " 'polyuria',\n",
    " 'family_history',\n",
    " 'mucoid_sputum',\n",
    " 'rusty_sputum',\n",
    " 'lack_of_concentration',\n",
    " 'visual_disturbances',\n",
    " 'receiving_blood_transfusion',\n",
    " 'receiving_unsterile_injections',\n",
    " 'coma',\n",
    " 'stomach_bleeding',\n",
    " 'distention_of_abdomen',\n",
    " 'history_of_alcohol_consumption',\n",
    " 'fluid_overload.1',\n",
    " 'blood_in_sputum',\n",
    " 'prominent_veins_on_calf',\n",
    " 'palpitations',\n",
    " 'painful_walking',\n",
    " 'pus_filled_pimples',\n",
    " 'blackheads',\n",
    " 'scurring',\n",
    " 'skin_peeling',\n",
    " 'silver_like_dusting',\n",
    " 'small_dents_in_nails',\n",
    " 'inflammatory_nails',\n",
    " 'blister',\n",
    " 'red_sore_around_nose',\n",
    " 'yellow_crust_ooze',\n",
    " 'prognosis'],axis=1)\n"
   ]
  },
  {
   "cell_type": "code",
   "execution_count": 5,
   "metadata": {},
   "outputs": [],
   "source": [
    "x_test=test_df.drop(['malaise',\n",
    " 'blurred_and_distorted_vision',\n",
    " 'phlegm',\n",
    " 'throat_irritation',\n",
    " 'redness_of_eyes',\n",
    " 'sinus_pressure',\n",
    " 'runny_nose',\n",
    " 'congestion',\n",
    " 'chest_pain',\n",
    " 'weakness_in_limbs',\n",
    " 'fast_heart_rate',\n",
    " 'pain_during_bowel_movements',\n",
    " 'pain_in_anal_region',\n",
    " 'bloody_stool',\n",
    " 'irritation_in_anus',\n",
    " 'neck_pain',\n",
    " 'dizziness',\n",
    " 'cramps',\n",
    " 'bruising',\n",
    " 'obesity',\n",
    " 'swollen_legs',\n",
    " 'swollen_blood_vessels',\n",
    " 'puffy_face_and_eyes',\n",
    " 'enlarged_thyroid',\n",
    " 'brittle_nails',\n",
    " 'swollen_extremeties',\n",
    " 'excessive_hunger',\n",
    " 'extra_marital_contacts',\n",
    " 'drying_and_tingling_lips',\n",
    " 'slurred_speech',\n",
    " 'knee_pain',\n",
    " 'hip_joint_pain',\n",
    " 'muscle_weakness',\n",
    " 'stiff_neck',\n",
    " 'swelling_joints',\n",
    " 'movement_stiffness',\n",
    " 'spinning_movements',\n",
    " 'loss_of_balance',\n",
    " 'unsteadiness',\n",
    " 'weakness_of_one_body_side',\n",
    " 'loss_of_smell',\n",
    " 'bladder_discomfort',\n",
    " 'foul_smell_of urine',\n",
    " 'continuous_feel_of_urine',\n",
    " 'passage_of_gases',\n",
    " 'internal_itching',\n",
    " 'toxic_look_(typhos)',\n",
    " 'depression',\n",
    " 'irritability',\n",
    " 'muscle_pain',\n",
    " 'altered_sensorium',\n",
    " 'red_spots_over_body',\n",
    " 'belly_pain',\n",
    " 'abnormal_menstruation',\n",
    " 'dischromic _patches',\n",
    " 'watering_from_eyes',\n",
    " 'increased_appetite',\n",
    " 'polyuria',\n",
    " 'family_history',\n",
    " 'mucoid_sputum',\n",
    " 'rusty_sputum',\n",
    " 'lack_of_concentration',\n",
    " 'visual_disturbances',\n",
    " 'receiving_blood_transfusion',\n",
    " 'receiving_unsterile_injections',\n",
    " 'coma',\n",
    " 'stomach_bleeding',\n",
    " 'distention_of_abdomen',\n",
    " 'history_of_alcohol_consumption',\n",
    " 'fluid_overload.1',\n",
    " 'blood_in_sputum',\n",
    " 'prominent_veins_on_calf',\n",
    " 'palpitations',\n",
    " 'painful_walking',\n",
    " 'pus_filled_pimples',\n",
    " 'blackheads',\n",
    " 'scurring',\n",
    " 'skin_peeling',\n",
    " 'silver_like_dusting',\n",
    " 'small_dents_in_nails',\n",
    " 'inflammatory_nails',\n",
    " 'blister',\n",
    " 'red_sore_around_nose',\n",
    " 'yellow_crust_ooze',\n",
    " 'prognosis'],axis=1)\n",
    "y_test=test_df['prognosis']"
   ]
  },
  {
   "cell_type": "code",
   "execution_count": 6,
   "metadata": {},
   "outputs": [
    {
     "data": {
      "text/plain": [
       "Index(['itching', 'skin_rash', 'nodal_skin_eruptions', 'continuous_sneezing',\n",
       "       'shivering', 'chills', 'joint_pain', 'stomach_pain', 'acidity',\n",
       "       'ulcers_on_tongue', 'muscle_wasting', 'vomiting', 'burning_micturition',\n",
       "       'spotting_ urination', 'fatigue', 'weight_gain', 'anxiety',\n",
       "       'cold_hands_and_feets', 'mood_swings', 'weight_loss', 'restlessness',\n",
       "       'lethargy', 'patches_in_throat', 'irregular_sugar_level', 'cough',\n",
       "       'high_fever', 'sunken_eyes', 'breathlessness', 'sweating',\n",
       "       'dehydration', 'indigestion', 'headache', 'yellowish_skin',\n",
       "       'dark_urine', 'nausea', 'loss_of_appetite', 'pain_behind_the_eyes',\n",
       "       'back_pain', 'constipation', 'abdominal_pain', 'diarrhoea',\n",
       "       'mild_fever', 'yellow_urine', 'yellowing_of_eyes',\n",
       "       'acute_liver_failure', 'fluid_overload', 'swelling_of_stomach',\n",
       "       'swelled_lymph_nodes'],\n",
       "      dtype='object')"
      ]
     },
     "execution_count": 6,
     "metadata": {},
     "output_type": "execute_result"
    }
   ],
   "source": [
    "x_train.columns"
   ]
  },
  {
   "cell_type": "markdown",
   "metadata": {},
   "source": [
    "### Data Standardization"
   ]
  },
  {
   "cell_type": "code",
   "execution_count": 8,
   "metadata": {},
   "outputs": [
    {
     "data": {
      "text/html": [
       "<div>\n",
       "<style scoped>\n",
       "    .dataframe tbody tr th:only-of-type {\n",
       "        vertical-align: middle;\n",
       "    }\n",
       "\n",
       "    .dataframe tbody tr th {\n",
       "        vertical-align: top;\n",
       "    }\n",
       "\n",
       "    .dataframe thead th {\n",
       "        text-align: right;\n",
       "    }\n",
       "</style>\n",
       "<table border=\"1\" class=\"dataframe\">\n",
       "  <thead>\n",
       "    <tr style=\"text-align: right;\">\n",
       "      <th></th>\n",
       "      <th>0</th>\n",
       "    </tr>\n",
       "  </thead>\n",
       "  <tbody>\n",
       "    <tr>\n",
       "      <th>0</th>\n",
       "      <td>15</td>\n",
       "    </tr>\n",
       "    <tr>\n",
       "      <th>1</th>\n",
       "      <td>15</td>\n",
       "    </tr>\n",
       "    <tr>\n",
       "      <th>2</th>\n",
       "      <td>15</td>\n",
       "    </tr>\n",
       "    <tr>\n",
       "      <th>3</th>\n",
       "      <td>15</td>\n",
       "    </tr>\n",
       "    <tr>\n",
       "      <th>4</th>\n",
       "      <td>15</td>\n",
       "    </tr>\n",
       "  </tbody>\n",
       "</table>\n",
       "</div>"
      ],
      "text/plain": [
       "    0\n",
       "0  15\n",
       "1  15\n",
       "2  15\n",
       "3  15\n",
       "4  15"
      ]
     },
     "execution_count": 8,
     "metadata": {},
     "output_type": "execute_result"
    }
   ],
   "source": [
    "le=LabelEncoder()\n",
    "dummy=le.fit_transform(train_df['prognosis'])\n",
    "y_train=pd.DataFrame(dummy)\n",
    "y_train.head()"
   ]
  },
  {
   "cell_type": "markdown",
   "metadata": {},
   "source": [
    "## Listing the indices of diseases"
   ]
  },
  {
   "cell_type": "code",
   "execution_count": 9,
   "metadata": {},
   "outputs": [],
   "source": [
    "disease_classes = le.classes_ "
   ]
  },
  {
   "cell_type": "code",
   "execution_count": 10,
   "metadata": {},
   "outputs": [],
   "source": [
    "dummy=LabelEncoder().fit_transform(test_df['prognosis'])\n",
    "y_test=pd.DataFrame(dummy)"
   ]
  },
  {
   "cell_type": "code",
   "execution_count": 11,
   "metadata": {},
   "outputs": [],
   "source": [
    "model=Sequential([\n",
    "    Dense(units=200,activation='relu'),\n",
    "    Dense(units=150,activation='relu'),\n",
    "    Dense(units=100, activation='relu'),\n",
    "    Dense(units=42,activation='softmax')\n",
    "])"
   ]
  },
  {
   "cell_type": "code",
   "execution_count": 12,
   "metadata": {},
   "outputs": [],
   "source": [
    "model.compile(\n",
    "    loss=SparseCategoricalCrossentropy(from_logits=True),\n",
    "    optimizer=tf.keras.optimizers.Adam(learning_rate=0.001),\n",
    "    metrics=['accuracy'])\n",
    "# model.summary"
   ]
  },
  {
   "cell_type": "code",
   "execution_count": 13,
   "metadata": {},
   "outputs": [
    {
     "name": "stdout",
     "output_type": "stream",
     "text": [
      "Epoch 1/10\n"
     ]
    },
    {
     "name": "stderr",
     "output_type": "stream",
     "text": [
      "c:\\Users\\ThisPC\\anaconda3\\envs\\tf-new\\lib\\site-packages\\keras\\backend.py:5582: UserWarning: \"`sparse_categorical_crossentropy` received `from_logits=True`, but the `output` argument was produced by a Softmax activation and thus does not represent logits. Was this intended?\n",
      "  output, from_logits = _get_logits(\n"
     ]
    },
    {
     "name": "stdout",
     "output_type": "stream",
     "text": [
      "38/39 [============================>.] - ETA: 0s - loss: 2.8877 - accuracy: 0.4741 "
     ]
    },
    {
     "name": "stderr",
     "output_type": "stream",
     "text": [
      "c:\\Users\\ThisPC\\anaconda3\\envs\\tf-new\\lib\\site-packages\\keras\\backend.py:5582: UserWarning: \"`sparse_categorical_crossentropy` received `from_logits=True`, but the `output` argument was produced by a Softmax activation and thus does not represent logits. Was this intended?\n",
      "  output, from_logits = _get_logits(\n"
     ]
    },
    {
     "name": "stdout",
     "output_type": "stream",
     "text": [
      "39/39 [==============================] - 1s 19ms/step - loss: 2.8751 - accuracy: 0.4769 - val_loss: 1.5057 - val_accuracy: 0.8140\n",
      "Epoch 2/10\n",
      "39/39 [==============================] - 0s 6ms/step - loss: 0.6920 - accuracy: 0.9340 - val_loss: 0.2927 - val_accuracy: 0.9767\n",
      "Epoch 3/10\n",
      "39/39 [==============================] - 0s 6ms/step - loss: 0.1572 - accuracy: 0.9746 - val_loss: 0.2232 - val_accuracy: 0.9767\n",
      "Epoch 4/10\n",
      "39/39 [==============================] - 0s 5ms/step - loss: 0.1118 - accuracy: 0.9776 - val_loss: 0.2209 - val_accuracy: 0.9767\n",
      "Epoch 5/10\n",
      "39/39 [==============================] - 0s 5ms/step - loss: 0.1014 - accuracy: 0.9779 - val_loss: 0.2111 - val_accuracy: 0.9767\n",
      "Epoch 6/10\n",
      "39/39 [==============================] - 0s 6ms/step - loss: 0.0956 - accuracy: 0.9779 - val_loss: 0.2087 - val_accuracy: 0.9767\n",
      "Epoch 7/10\n",
      "39/39 [==============================] - 0s 8ms/step - loss: 0.0964 - accuracy: 0.9779 - val_loss: 0.1956 - val_accuracy: 0.9767\n",
      "Epoch 8/10\n",
      "39/39 [==============================] - 0s 6ms/step - loss: 0.0938 - accuracy: 0.9779 - val_loss: 0.1787 - val_accuracy: 0.9767\n",
      "Epoch 9/10\n",
      "39/39 [==============================] - 0s 9ms/step - loss: 0.0926 - accuracy: 0.9779 - val_loss: 0.1795 - val_accuracy: 0.9767\n",
      "Epoch 10/10\n",
      "39/39 [==============================] - 0s 4ms/step - loss: 0.0914 - accuracy: 0.9779 - val_loss: 0.1693 - val_accuracy: 0.9767\n"
     ]
    }
   ],
   "source": [
    "history=model.fit(x_train,y_train,epochs=10,batch_size=128,validation_data=(x_test,y_test))"
   ]
  },
  {
   "cell_type": "code",
   "execution_count": null,
   "metadata": {},
   "outputs": [],
   "source": [
    "prediction=model.predict(x_test)\n",
    "prediction[1]"
   ]
  },
  {
   "cell_type": "code",
   "execution_count": null,
   "metadata": {},
   "outputs": [],
   "source": [
    "# import matplotlib.pyplot as plt\n",
    "# plt.plot(history.history['loss'], label='train')\n",
    "# plt.xlabel('epochs')\n",
    "# plt.ylabel('loss')\n",
    "# plt.show()\n",
    "\n",
    "# plt.plot(history.history['accuracy'])\n",
    "# plt.xlabel('epochs')\n",
    "# plt.ylabel('accuracy')\n",
    "# plt.show()\n"
   ]
  },
  {
   "cell_type": "code",
   "execution_count": null,
   "metadata": {},
   "outputs": [],
   "source": [
    "pred=np.argmax(prediction, axis=1)\n",
    "original=y_test[0]\n",
    "print(original[41])"
   ]
  },
  {
   "cell_type": "code",
   "execution_count": null,
   "metadata": {},
   "outputs": [],
   "source": [
    "# confusion = confusion_matrix(original,pred)\n",
    "\n",
    "# fig = px.imshow(confusion, labels=dict(x=\"Predicted Value\", y=\"Actual Vlaue\"),text_auto=True, title='Confusion Matrix')\n",
    "# fig.update_layout(title_x=0.5)\n",
    "# fig.show()"
   ]
  },
  {
   "cell_type": "code",
   "execution_count": null,
   "metadata": {},
   "outputs": [],
   "source": [
    "count=0\n",
    "for i in range(41):\n",
    "    if(pred[i]-original[i]!=0):\n",
    "        count+=1\n",
    "\n",
    "Test_accuracy=(42-count)/42*100\n",
    "for i in range(10):\n",
    "    print(f\"Predicted: {pred[i]}, Actual: {original[i]}\")"
   ]
  },
  {
   "cell_type": "code",
   "execution_count": null,
   "metadata": {},
   "outputs": [],
   "source": [
    "pred_ga=np.argmax(ga, axis=1)\n",
    "pred_ga[0]"
   ]
  },
  {
   "cell_type": "markdown",
   "metadata": {},
   "source": [
    "####  Random Forest Classifier"
   ]
  },
  {
   "cell_type": "code",
   "execution_count": null,
   "metadata": {},
   "outputs": [],
   "source": [
    "clf = RandomForestClassifier(n_estimators=100, random_state=42) \n",
    "clf.fit(x_train, np.ravel(y_train))"
   ]
  },
  {
   "cell_type": "code",
   "execution_count": null,
   "metadata": {},
   "outputs": [],
   "source": [
    "rf_predictions = clf.predict(x_test)\n",
    "print(len(rf_predictions))"
   ]
  },
  {
   "cell_type": "code",
   "execution_count": null,
   "metadata": {},
   "outputs": [],
   "source": [
    "from sklearn.metrics import mean_absolute_error, mean_squared_error, r2_score\n",
    "mae = mean_absolute_error(y_test, rf_predictions)\n",
    "mse = mean_squared_error(y_test, rf_predictions)\n",
    "r2 = r2_score(y_test, rf_predictions)\n",
    "\n",
    "print(\"Mean Absolute Error:\", mae)\n",
    "print(\"Mean Squared Error:\", mse)\n",
    "print(\"R-squared:\", r2)"
   ]
  },
  {
   "cell_type": "code",
   "execution_count": null,
   "metadata": {},
   "outputs": [],
   "source": [
    "print(f\"Random Forest Test Accuracy:\",Test_accuracy,'%')"
   ]
  },
  {
   "cell_type": "code",
   "execution_count": null,
   "metadata": {},
   "outputs": [],
   "source": [
    "count=0\n",
    "for i in range(41):\n",
    "    if(rf_predictions[i]-original[i]!=0):\n",
    "        count+=1\n",
    "\n",
    "rf_Test_accuracy=(42-count)/42*100"
   ]
  },
  {
   "cell_type": "markdown",
   "metadata": {},
   "source": [
    "## Saving the Model"
   ]
  },
  {
   "cell_type": "code",
   "execution_count": null,
   "metadata": {},
   "outputs": [],
   "source": [
    "from joblib import dump,load"
   ]
  },
  {
   "cell_type": "code",
   "execution_count": null,
   "metadata": {},
   "outputs": [],
   "source": [
    "filename = 'rf_model.joblib'\n",
    "model = clf\n",
    "dump(model, filename)"
   ]
  },
  {
   "cell_type": "code",
   "execution_count": null,
   "metadata": {},
   "outputs": [],
   "source": [
    "ml_model=load('rf_model.joblib')"
   ]
  },
  {
   "cell_type": "code",
   "execution_count": null,
   "metadata": {},
   "outputs": [],
   "source": [
    "inp = np.array([1, 0, 0, 1, 0, 1, 1, 0, 1, 1, 1, 1, 0, 0, 1, 1, 0, 1, 0, 1, 0, 0, 0, 1, 1, 1, 1, 1, 1, 0, 1, 0, 1, 1, 1, 0, 0, 1, 0, 1, 1, 0, 0, 0, 0, 0, 1, 1])\n",
    "\n",
    "# Reshape the 1D array into a 2D array with 1 row and 48 columns\n",
    "inp = inp.reshape(1,-1)\n",
    "\n",
    "# Make the prediction\n",
    "prediction = ml_model.predict(inp)\n",
    "print(prediction)"
   ]
  },
  {
   "cell_type": "code",
   "execution_count": null,
   "metadata": {},
   "outputs": [],
   "source": [
    "da_list = da.iloc[0].to_list()\n",
    "da_arr = np.array(da_list)\n",
    "da_arr = da_arr.reshape(1,-1)\n",
    "\n",
    "# Make the prediction\n",
    "prediction = ml_model.predict(da_arr)\n",
    "prediction\n",
    "dis = prediction[0]\n",
    "disease_classes[dis]"
   ]
  },
  {
   "cell_type": "markdown",
   "metadata": {},
   "source": [
    "### Initial Random Forest based on encoding disease severity"
   ]
  },
  {
   "cell_type": "code",
   "execution_count": null,
   "metadata": {},
   "outputs": [],
   "source": [
    "def encode_symptoms(df, data_severity):\n",
    "    for i in data_severity.index:\n",
    "        symptom = data_severity[\"Symptom\"][i]\n",
    "        weight = data_severity[\"weight\"][i]\n",
    "        df = df.replace(symptom, weight)\n",
    "\n",
    "    # Replace missing values with 0\n",
    "    df = df.fillna(0)\n",
    "\n",
    "    # Additional hardcoded replacements\n",
    "    df = df.replace(\"foul_smell_of_urine\", 5)\n",
    "    df = df.replace(\"dischromic__patches\", 6)\n",
    "    df = df.replace(\"spotting__urination\", 6)\n",
    "    \n",
    "    return df"
   ]
  },
  {
   "cell_type": "code",
   "execution_count": null,
   "metadata": {},
   "outputs": [],
   "source": [
    "new_df = encode_symptoms(df, data_severity)"
   ]
  },
  {
   "cell_type": "code",
   "execution_count": 16,
   "metadata": {},
   "outputs": [],
   "source": [
    "# separating the data and labels\n",
    "X = new_df.drop(columns='Disease', axis=1)\n",
    "Y = new_df['Disease']"
   ]
  },
  {
   "cell_type": "code",
   "execution_count": null,
   "metadata": {},
   "outputs": [],
   "source": [
    "scaler = StandardScaler()"
   ]
  },
  {
   "cell_type": "code",
   "execution_count": null,
   "metadata": {},
   "outputs": [],
   "source": [
    "scaler.fit(X)"
   ]
  },
  {
   "cell_type": "code",
   "execution_count": null,
   "metadata": {},
   "outputs": [],
   "source": [
    "X = scaler.transform(X)"
   ]
  },
  {
   "cell_type": "code",
   "execution_count": 133,
   "metadata": {},
   "outputs": [
    {
     "name": "stdout",
     "output_type": "stream",
     "text": [
      "Random Forest\n",
      "Accuracy: 0.9908536585365854\n",
      "Precision: 0.9916531165311654\n",
      "Recall: 0.9918172648227722\n",
      "F1-Score: 0.9914105369307706\n",
      "975\n",
      "Confusion matrix\n",
      "[[31  0  0 ...  0  0  0]\n",
      " [ 0 28  0 ...  0  0  0]\n",
      " [ 0  0 21 ...  0  0  0]\n",
      " ...\n",
      " [ 0  0  0 ... 24  0  0]\n",
      " [ 0  0  0 ...  0 22  0]\n",
      " [ 0  0  0 ...  0  0 24]]\n"
     ]
    }
   ],
   "source": [
    "from sklearn.ensemble import RandomForestClassifier\n",
    "# Split the data into training and testing sets\n",
    "X_train, X_test, Y_train, Y_test = train_test_split(X, Y, test_size=0.2, random_state=42)\n",
    "\n",
    "# Create a Random Forest Classifier\n",
    "rfc_classifier = RandomForestClassifier(n_estimators=100, random_state=42)\n",
    "\n",
    "# Fit the model on the training data\n",
    "rfc_classifier.fit(X_train, Y_train)\n",
    "\n",
    "# Predict disease labels on the testing data\n",
    "Y_pred = rfc_classifier.predict(X_test)\n",
    "\n",
    "# Calculate accuracy\n",
    "accuracy = accuracy_score(Y_test, Y_pred)\n",
    "\n",
    "precision = precision_score(Y_test, Y_pred, average='macro')\n",
    "recall = recall_score(Y_test, Y_pred,average='macro')\n",
    "f1 = f1_score(Y_test, Y_pred, average='macro')\n",
    "\n",
    "print(\"Random Forest\")\n",
    "print(f'Accuracy: {accuracy}')\n",
    "print(f'Precision: {precision}')\n",
    "print(f'Recall: {recall}')\n",
    "print(f'F1-Score: {f1}')\n",
    "print(accuracy_score(Y_test, Y_pred,normalize=False))\n",
    "print(\"Confusion matrix\")\n",
    "conf_matrix=confusion_matrix(Y_test,Y_pred)\n",
    "print(conf_matrix)"
   ]
  },
  {
   "cell_type": "code",
   "execution_count": null,
   "metadata": {},
   "outputs": [],
   "source": [
    "\"\"\"\n",
    "A function that takes in a list of numbers corresponsing to the symptom. Returns a dataframe suitable to undergo prediction\n",
    "\"\"\"\n",
    "def dis_data(values):\n",
    "    symp_keys = x_train.columns\n",
    "    symp_values = values\n",
    "    dic = {symp_keys[i]: symp_values[i] for i in range(len(symp_keys))}\n",
    "    df = pd.DataFrame(list(dic.items())).transpose()\n",
    "    df.columns = df.iloc[0]\n",
    "    df.drop(index=0, inplace=True)\n",
    "    df.reset_index(inplace=True)\n",
    "    df.drop(columns=\"index\", inplace=True)\n",
    "\n",
    "    return df"
   ]
  },
  {
   "cell_type": "code",
   "execution_count": null,
   "metadata": {},
   "outputs": [],
   "source": [
    "d = [0, 0, 0, 0, 0, 0, 0, 0, 0, 0, 0, 0, 0, 0, 0, 0, 0, 0, 0, 0, 0, 0, 0, 0, 0, 0, 0, 0, 0, 0, 0, 0, 0, 0, 0, 0, 0, 0, 0, 0, 0, 0, 0, 0, 0, 0, 0, 0]\n",
    "da = dis_data(d)\n",
    "da[\"itching\"] = 1\n",
    "#g = da.iloc[0].to_list()\n",
    "ga = np.asarray(da).astype(np.float32)\n",
    "model.predict(ga)\n",
    "#da.to_csv(\"empty_df.csv\")"
   ]
  },
  {
   "cell_type": "markdown",
   "metadata": {},
   "source": []
  }
 ],
 "metadata": {
  "kernelspec": {
   "display_name": "Python 3",
   "language": "python",
   "name": "python3"
  },
  "language_info": {
   "codemirror_mode": {
    "name": "ipython",
    "version": 3
   },
   "file_extension": ".py",
   "mimetype": "text/x-python",
   "name": "python",
   "nbconvert_exporter": "python",
   "pygments_lexer": "ipython3",
   "version": "3.10.12"
  },
  "orig_nbformat": 4
 },
 "nbformat": 4,
 "nbformat_minor": 2
}
