{
 "cells": [
  {
   "cell_type": "markdown",
   "id": "c027de14",
   "metadata": {
    "papermill": {
     "duration": 0.009308,
     "end_time": "2023-10-10T18:55:05.895119",
     "exception": false,
     "start_time": "2023-10-10T18:55:05.885811",
     "status": "completed"
    },
    "tags": []
   },
   "source": [
    "## This notebook predicts the diseases on the basis of 48 parameters from the dataset, after doing PCA. There are 2 models used for the same:\n",
    "\n",
    "###  1. ANN(Softmax Regression)\n",
    "###  2. Random Forest Algorithm"
   ]
  },
  {
   "cell_type": "markdown",
   "id": "38f0563b",
   "metadata": {},
   "source": [
    "Test Notebook from Kaggle"
   ]
  },
  {
   "cell_type": "code",
   "execution_count": 2,
   "id": "be6bc7fa",
   "metadata": {
    "execution": {
     "iopub.execute_input": "2023-10-10T18:55:05.913982Z",
     "iopub.status.busy": "2023-10-10T18:55:05.913617Z",
     "iopub.status.idle": "2023-10-10T18:55:19.562812Z",
     "shell.execute_reply": "2023-10-10T18:55:19.561561Z"
    },
    "papermill": {
     "duration": 13.661378,
     "end_time": "2023-10-10T18:55:19.565744",
     "exception": false,
     "start_time": "2023-10-10T18:55:05.904366",
     "status": "completed"
    },
    "tags": []
   },
   "outputs": [],
   "source": [
    "import pandas as pd\n",
    "import numpy as np\n",
    "import sklearn\n",
    "from sklearn.ensemble import RandomForestClassifier\n",
    "import matplotlib.pyplot as plt\n",
    "import plotly.express as px\n",
    "import tensorflow as tf\n",
    "from tensorflow.keras.layers import Dense\n",
    "from tensorflow.keras.models import Sequential\n",
    "from tensorflow.keras.losses import SparseCategoricalCrossentropy\n",
    "from sklearn.preprocessing import LabelEncoder\n",
    "from sklearn.metrics import confusion_matrix"
   ]
  },
  {
   "cell_type": "code",
   "execution_count": 44,
   "id": "194f7360",
   "metadata": {},
   "outputs": [],
   "source": [
    "import warnings"
   ]
  },
  {
   "cell_type": "markdown",
   "id": "8ac17065",
   "metadata": {
    "papermill": {
     "duration": 0.007221,
     "end_time": "2023-10-10T18:55:19.581344",
     "exception": false,
     "start_time": "2023-10-10T18:55:19.574123",
     "status": "completed"
    },
    "tags": []
   },
   "source": [
    "## Taking the Dataset as input"
   ]
  },
  {
   "cell_type": "code",
   "execution_count": 8,
   "id": "1e1e1b0f",
   "metadata": {
    "execution": {
     "iopub.execute_input": "2023-10-10T18:55:19.598855Z",
     "iopub.status.busy": "2023-10-10T18:55:19.597767Z",
     "iopub.status.idle": "2023-10-10T18:55:19.722951Z",
     "shell.execute_reply": "2023-10-10T18:55:19.721793Z"
    },
    "papermill": {
     "duration": 0.136709,
     "end_time": "2023-10-10T18:55:19.725541",
     "exception": false,
     "start_time": "2023-10-10T18:55:19.588832",
     "status": "completed"
    },
    "tags": []
   },
   "outputs": [],
   "source": [
    "Train_data=pd.read_csv(\"Training.csv\")\n",
    "Test_data=pd.read_csv(\"Testing.csv\")"
   ]
  },
  {
   "cell_type": "code",
   "execution_count": 9,
   "id": "4b6686fa",
   "metadata": {
    "execution": {
     "iopub.execute_input": "2023-10-10T18:55:19.743724Z",
     "iopub.status.busy": "2023-10-10T18:55:19.743092Z",
     "iopub.status.idle": "2023-10-10T18:55:19.786647Z",
     "shell.execute_reply": "2023-10-10T18:55:19.785532Z"
    },
    "papermill": {
     "duration": 0.055316,
     "end_time": "2023-10-10T18:55:19.789370",
     "exception": false,
     "start_time": "2023-10-10T18:55:19.734054",
     "status": "completed"
    },
    "tags": []
   },
   "outputs": [
    {
     "data": {
      "text/html": [
       "<div>\n",
       "<style scoped>\n",
       "    .dataframe tbody tr th:only-of-type {\n",
       "        vertical-align: middle;\n",
       "    }\n",
       "\n",
       "    .dataframe tbody tr th {\n",
       "        vertical-align: top;\n",
       "    }\n",
       "\n",
       "    .dataframe thead th {\n",
       "        text-align: right;\n",
       "    }\n",
       "</style>\n",
       "<table border=\"1\" class=\"dataframe\">\n",
       "  <thead>\n",
       "    <tr style=\"text-align: right;\">\n",
       "      <th></th>\n",
       "      <th>itching</th>\n",
       "      <th>skin_rash</th>\n",
       "      <th>nodal_skin_eruptions</th>\n",
       "      <th>continuous_sneezing</th>\n",
       "      <th>shivering</th>\n",
       "      <th>chills</th>\n",
       "      <th>joint_pain</th>\n",
       "      <th>stomach_pain</th>\n",
       "      <th>acidity</th>\n",
       "      <th>ulcers_on_tongue</th>\n",
       "      <th>...</th>\n",
       "      <th>blackheads</th>\n",
       "      <th>scurring</th>\n",
       "      <th>skin_peeling</th>\n",
       "      <th>silver_like_dusting</th>\n",
       "      <th>small_dents_in_nails</th>\n",
       "      <th>inflammatory_nails</th>\n",
       "      <th>blister</th>\n",
       "      <th>red_sore_around_nose</th>\n",
       "      <th>yellow_crust_ooze</th>\n",
       "      <th>prognosis</th>\n",
       "    </tr>\n",
       "  </thead>\n",
       "  <tbody>\n",
       "    <tr>\n",
       "      <th>0</th>\n",
       "      <td>1</td>\n",
       "      <td>1</td>\n",
       "      <td>1</td>\n",
       "      <td>0</td>\n",
       "      <td>0</td>\n",
       "      <td>0</td>\n",
       "      <td>0</td>\n",
       "      <td>0</td>\n",
       "      <td>0</td>\n",
       "      <td>0</td>\n",
       "      <td>...</td>\n",
       "      <td>0</td>\n",
       "      <td>0</td>\n",
       "      <td>0</td>\n",
       "      <td>0</td>\n",
       "      <td>0</td>\n",
       "      <td>0</td>\n",
       "      <td>0</td>\n",
       "      <td>0</td>\n",
       "      <td>0</td>\n",
       "      <td>Fungal infection</td>\n",
       "    </tr>\n",
       "    <tr>\n",
       "      <th>1</th>\n",
       "      <td>0</td>\n",
       "      <td>1</td>\n",
       "      <td>1</td>\n",
       "      <td>0</td>\n",
       "      <td>0</td>\n",
       "      <td>0</td>\n",
       "      <td>0</td>\n",
       "      <td>0</td>\n",
       "      <td>0</td>\n",
       "      <td>0</td>\n",
       "      <td>...</td>\n",
       "      <td>0</td>\n",
       "      <td>0</td>\n",
       "      <td>0</td>\n",
       "      <td>0</td>\n",
       "      <td>0</td>\n",
       "      <td>0</td>\n",
       "      <td>0</td>\n",
       "      <td>0</td>\n",
       "      <td>0</td>\n",
       "      <td>Fungal infection</td>\n",
       "    </tr>\n",
       "    <tr>\n",
       "      <th>2</th>\n",
       "      <td>1</td>\n",
       "      <td>0</td>\n",
       "      <td>1</td>\n",
       "      <td>0</td>\n",
       "      <td>0</td>\n",
       "      <td>0</td>\n",
       "      <td>0</td>\n",
       "      <td>0</td>\n",
       "      <td>0</td>\n",
       "      <td>0</td>\n",
       "      <td>...</td>\n",
       "      <td>0</td>\n",
       "      <td>0</td>\n",
       "      <td>0</td>\n",
       "      <td>0</td>\n",
       "      <td>0</td>\n",
       "      <td>0</td>\n",
       "      <td>0</td>\n",
       "      <td>0</td>\n",
       "      <td>0</td>\n",
       "      <td>Fungal infection</td>\n",
       "    </tr>\n",
       "    <tr>\n",
       "      <th>3</th>\n",
       "      <td>1</td>\n",
       "      <td>1</td>\n",
       "      <td>0</td>\n",
       "      <td>0</td>\n",
       "      <td>0</td>\n",
       "      <td>0</td>\n",
       "      <td>0</td>\n",
       "      <td>0</td>\n",
       "      <td>0</td>\n",
       "      <td>0</td>\n",
       "      <td>...</td>\n",
       "      <td>0</td>\n",
       "      <td>0</td>\n",
       "      <td>0</td>\n",
       "      <td>0</td>\n",
       "      <td>0</td>\n",
       "      <td>0</td>\n",
       "      <td>0</td>\n",
       "      <td>0</td>\n",
       "      <td>0</td>\n",
       "      <td>Fungal infection</td>\n",
       "    </tr>\n",
       "    <tr>\n",
       "      <th>4</th>\n",
       "      <td>1</td>\n",
       "      <td>1</td>\n",
       "      <td>1</td>\n",
       "      <td>0</td>\n",
       "      <td>0</td>\n",
       "      <td>0</td>\n",
       "      <td>0</td>\n",
       "      <td>0</td>\n",
       "      <td>0</td>\n",
       "      <td>0</td>\n",
       "      <td>...</td>\n",
       "      <td>0</td>\n",
       "      <td>0</td>\n",
       "      <td>0</td>\n",
       "      <td>0</td>\n",
       "      <td>0</td>\n",
       "      <td>0</td>\n",
       "      <td>0</td>\n",
       "      <td>0</td>\n",
       "      <td>0</td>\n",
       "      <td>Fungal infection</td>\n",
       "    </tr>\n",
       "  </tbody>\n",
       "</table>\n",
       "<p>5 rows × 133 columns</p>\n",
       "</div>"
      ],
      "text/plain": [
       "   itching  skin_rash  nodal_skin_eruptions  continuous_sneezing  shivering  \\\n",
       "0        1          1                     1                    0          0   \n",
       "1        0          1                     1                    0          0   \n",
       "2        1          0                     1                    0          0   \n",
       "3        1          1                     0                    0          0   \n",
       "4        1          1                     1                    0          0   \n",
       "\n",
       "   chills  joint_pain  stomach_pain  acidity  ulcers_on_tongue  ...  \\\n",
       "0       0           0             0        0                 0  ...   \n",
       "1       0           0             0        0                 0  ...   \n",
       "2       0           0             0        0                 0  ...   \n",
       "3       0           0             0        0                 0  ...   \n",
       "4       0           0             0        0                 0  ...   \n",
       "\n",
       "   blackheads  scurring  skin_peeling  silver_like_dusting  \\\n",
       "0           0         0             0                    0   \n",
       "1           0         0             0                    0   \n",
       "2           0         0             0                    0   \n",
       "3           0         0             0                    0   \n",
       "4           0         0             0                    0   \n",
       "\n",
       "   small_dents_in_nails  inflammatory_nails  blister  red_sore_around_nose  \\\n",
       "0                     0                   0        0                     0   \n",
       "1                     0                   0        0                     0   \n",
       "2                     0                   0        0                     0   \n",
       "3                     0                   0        0                     0   \n",
       "4                     0                   0        0                     0   \n",
       "\n",
       "   yellow_crust_ooze         prognosis  \n",
       "0                  0  Fungal infection  \n",
       "1                  0  Fungal infection  \n",
       "2                  0  Fungal infection  \n",
       "3                  0  Fungal infection  \n",
       "4                  0  Fungal infection  \n",
       "\n",
       "[5 rows x 133 columns]"
      ]
     },
     "execution_count": 9,
     "metadata": {},
     "output_type": "execute_result"
    }
   ],
   "source": [
    "train_df=pd.DataFrame(Train_data)\n",
    "train_df.head(15)\n",
    "train_df=train_df.drop(['Unnamed: 133'],axis=1)\n",
    "train_df.head()"
   ]
  },
  {
   "cell_type": "markdown",
   "id": "209cf2a7",
   "metadata": {
    "papermill": {
     "duration": 0.008839,
     "end_time": "2023-10-10T18:55:19.806066",
     "exception": false,
     "start_time": "2023-10-10T18:55:19.797227",
     "status": "completed"
    },
    "tags": []
   },
   "source": [
    "## Listing the features and target variables in dataset"
   ]
  },
  {
   "cell_type": "code",
   "execution_count": 48,
   "id": "6ef6bdf9",
   "metadata": {
    "execution": {
     "iopub.execute_input": "2023-10-10T18:55:19.825892Z",
     "iopub.status.busy": "2023-10-10T18:55:19.825477Z",
     "iopub.status.idle": "2023-10-10T18:55:19.829963Z",
     "shell.execute_reply": "2023-10-10T18:55:19.829135Z"
    },
    "papermill": {
     "duration": 0.017474,
     "end_time": "2023-10-10T18:55:19.832014",
     "exception": false,
     "start_time": "2023-10-10T18:55:19.814540",
     "status": "completed"
    },
    "tags": []
   },
   "outputs": [],
   "source": [
    "#list(train_df.columns)"
   ]
  },
  {
   "cell_type": "code",
   "execution_count": 10,
   "id": "b8c16f6e",
   "metadata": {
    "execution": {
     "iopub.execute_input": "2023-10-10T18:55:19.850338Z",
     "iopub.status.busy": "2023-10-10T18:55:19.849331Z",
     "iopub.status.idle": "2023-10-10T18:55:19.867180Z",
     "shell.execute_reply": "2023-10-10T18:55:19.866040Z"
    },
    "papermill": {
     "duration": 0.029645,
     "end_time": "2023-10-10T18:55:19.869759",
     "exception": false,
     "start_time": "2023-10-10T18:55:19.840114",
     "status": "completed"
    },
    "tags": []
   },
   "outputs": [
    {
     "data": {
      "text/html": [
       "<div>\n",
       "<style scoped>\n",
       "    .dataframe tbody tr th:only-of-type {\n",
       "        vertical-align: middle;\n",
       "    }\n",
       "\n",
       "    .dataframe tbody tr th {\n",
       "        vertical-align: top;\n",
       "    }\n",
       "\n",
       "    .dataframe thead th {\n",
       "        text-align: right;\n",
       "    }\n",
       "</style>\n",
       "<table border=\"1\" class=\"dataframe\">\n",
       "  <thead>\n",
       "    <tr style=\"text-align: right;\">\n",
       "      <th></th>\n",
       "      <th>itching</th>\n",
       "      <th>skin_rash</th>\n",
       "      <th>nodal_skin_eruptions</th>\n",
       "      <th>continuous_sneezing</th>\n",
       "      <th>shivering</th>\n",
       "      <th>chills</th>\n",
       "      <th>joint_pain</th>\n",
       "      <th>stomach_pain</th>\n",
       "      <th>acidity</th>\n",
       "      <th>ulcers_on_tongue</th>\n",
       "      <th>...</th>\n",
       "      <th>blackheads</th>\n",
       "      <th>scurring</th>\n",
       "      <th>skin_peeling</th>\n",
       "      <th>silver_like_dusting</th>\n",
       "      <th>small_dents_in_nails</th>\n",
       "      <th>inflammatory_nails</th>\n",
       "      <th>blister</th>\n",
       "      <th>red_sore_around_nose</th>\n",
       "      <th>yellow_crust_ooze</th>\n",
       "      <th>prognosis</th>\n",
       "    </tr>\n",
       "  </thead>\n",
       "  <tbody>\n",
       "    <tr>\n",
       "      <th>0</th>\n",
       "      <td>1</td>\n",
       "      <td>1</td>\n",
       "      <td>1</td>\n",
       "      <td>0</td>\n",
       "      <td>0</td>\n",
       "      <td>0</td>\n",
       "      <td>0</td>\n",
       "      <td>0</td>\n",
       "      <td>0</td>\n",
       "      <td>0</td>\n",
       "      <td>...</td>\n",
       "      <td>0</td>\n",
       "      <td>0</td>\n",
       "      <td>0</td>\n",
       "      <td>0</td>\n",
       "      <td>0</td>\n",
       "      <td>0</td>\n",
       "      <td>0</td>\n",
       "      <td>0</td>\n",
       "      <td>0</td>\n",
       "      <td>Fungal infection</td>\n",
       "    </tr>\n",
       "    <tr>\n",
       "      <th>1</th>\n",
       "      <td>0</td>\n",
       "      <td>0</td>\n",
       "      <td>0</td>\n",
       "      <td>1</td>\n",
       "      <td>1</td>\n",
       "      <td>1</td>\n",
       "      <td>0</td>\n",
       "      <td>0</td>\n",
       "      <td>0</td>\n",
       "      <td>0</td>\n",
       "      <td>...</td>\n",
       "      <td>0</td>\n",
       "      <td>0</td>\n",
       "      <td>0</td>\n",
       "      <td>0</td>\n",
       "      <td>0</td>\n",
       "      <td>0</td>\n",
       "      <td>0</td>\n",
       "      <td>0</td>\n",
       "      <td>0</td>\n",
       "      <td>Allergy</td>\n",
       "    </tr>\n",
       "    <tr>\n",
       "      <th>2</th>\n",
       "      <td>0</td>\n",
       "      <td>0</td>\n",
       "      <td>0</td>\n",
       "      <td>0</td>\n",
       "      <td>0</td>\n",
       "      <td>0</td>\n",
       "      <td>0</td>\n",
       "      <td>1</td>\n",
       "      <td>1</td>\n",
       "      <td>1</td>\n",
       "      <td>...</td>\n",
       "      <td>0</td>\n",
       "      <td>0</td>\n",
       "      <td>0</td>\n",
       "      <td>0</td>\n",
       "      <td>0</td>\n",
       "      <td>0</td>\n",
       "      <td>0</td>\n",
       "      <td>0</td>\n",
       "      <td>0</td>\n",
       "      <td>GERD</td>\n",
       "    </tr>\n",
       "    <tr>\n",
       "      <th>3</th>\n",
       "      <td>1</td>\n",
       "      <td>0</td>\n",
       "      <td>0</td>\n",
       "      <td>0</td>\n",
       "      <td>0</td>\n",
       "      <td>0</td>\n",
       "      <td>0</td>\n",
       "      <td>0</td>\n",
       "      <td>0</td>\n",
       "      <td>0</td>\n",
       "      <td>...</td>\n",
       "      <td>0</td>\n",
       "      <td>0</td>\n",
       "      <td>0</td>\n",
       "      <td>0</td>\n",
       "      <td>0</td>\n",
       "      <td>0</td>\n",
       "      <td>0</td>\n",
       "      <td>0</td>\n",
       "      <td>0</td>\n",
       "      <td>Chronic cholestasis</td>\n",
       "    </tr>\n",
       "    <tr>\n",
       "      <th>4</th>\n",
       "      <td>1</td>\n",
       "      <td>1</td>\n",
       "      <td>0</td>\n",
       "      <td>0</td>\n",
       "      <td>0</td>\n",
       "      <td>0</td>\n",
       "      <td>0</td>\n",
       "      <td>1</td>\n",
       "      <td>0</td>\n",
       "      <td>0</td>\n",
       "      <td>...</td>\n",
       "      <td>0</td>\n",
       "      <td>0</td>\n",
       "      <td>0</td>\n",
       "      <td>0</td>\n",
       "      <td>0</td>\n",
       "      <td>0</td>\n",
       "      <td>0</td>\n",
       "      <td>0</td>\n",
       "      <td>0</td>\n",
       "      <td>Drug Reaction</td>\n",
       "    </tr>\n",
       "  </tbody>\n",
       "</table>\n",
       "<p>5 rows × 133 columns</p>\n",
       "</div>"
      ],
      "text/plain": [
       "   itching  skin_rash  nodal_skin_eruptions  continuous_sneezing  shivering  \\\n",
       "0        1          1                     1                    0          0   \n",
       "1        0          0                     0                    1          1   \n",
       "2        0          0                     0                    0          0   \n",
       "3        1          0                     0                    0          0   \n",
       "4        1          1                     0                    0          0   \n",
       "\n",
       "   chills  joint_pain  stomach_pain  acidity  ulcers_on_tongue  ...  \\\n",
       "0       0           0             0        0                 0  ...   \n",
       "1       1           0             0        0                 0  ...   \n",
       "2       0           0             1        1                 1  ...   \n",
       "3       0           0             0        0                 0  ...   \n",
       "4       0           0             1        0                 0  ...   \n",
       "\n",
       "   blackheads  scurring  skin_peeling  silver_like_dusting  \\\n",
       "0           0         0             0                    0   \n",
       "1           0         0             0                    0   \n",
       "2           0         0             0                    0   \n",
       "3           0         0             0                    0   \n",
       "4           0         0             0                    0   \n",
       "\n",
       "   small_dents_in_nails  inflammatory_nails  blister  red_sore_around_nose  \\\n",
       "0                     0                   0        0                     0   \n",
       "1                     0                   0        0                     0   \n",
       "2                     0                   0        0                     0   \n",
       "3                     0                   0        0                     0   \n",
       "4                     0                   0        0                     0   \n",
       "\n",
       "   yellow_crust_ooze            prognosis  \n",
       "0                  0     Fungal infection  \n",
       "1                  0              Allergy  \n",
       "2                  0                 GERD  \n",
       "3                  0  Chronic cholestasis  \n",
       "4                  0        Drug Reaction  \n",
       "\n",
       "[5 rows x 133 columns]"
      ]
     },
     "execution_count": 10,
     "metadata": {},
     "output_type": "execute_result"
    }
   ],
   "source": [
    "test_df=pd.DataFrame(Test_data)\n",
    "test_df.head()"
   ]
  },
  {
   "cell_type": "markdown",
   "id": "b537040d",
   "metadata": {
    "papermill": {
     "duration": 0.007823,
     "end_time": "2023-10-10T18:55:19.886029",
     "exception": false,
     "start_time": "2023-10-10T18:55:19.878206",
     "status": "completed"
    },
    "tags": []
   },
   "source": [
    "## Dropping the least significant parameters from the dataset"
   ]
  },
  {
   "cell_type": "code",
   "execution_count": 11,
   "id": "61279e7f",
   "metadata": {
    "execution": {
     "iopub.execute_input": "2023-10-10T18:55:19.904440Z",
     "iopub.status.busy": "2023-10-10T18:55:19.903810Z",
     "iopub.status.idle": "2023-10-10T18:55:19.922168Z",
     "shell.execute_reply": "2023-10-10T18:55:19.920988Z"
    },
    "papermill": {
     "duration": 0.030318,
     "end_time": "2023-10-10T18:55:19.924563",
     "exception": false,
     "start_time": "2023-10-10T18:55:19.894245",
     "status": "completed"
    },
    "tags": []
   },
   "outputs": [
    {
     "data": {
      "text/plain": [
       "array(['Fungal infection', 'Allergy', 'GERD', 'Chronic cholestasis',\n",
       "       'Drug Reaction', 'Peptic ulcer diseae', 'AIDS', 'Diabetes ',\n",
       "       'Gastroenteritis', 'Bronchial Asthma', 'Hypertension ', 'Migraine',\n",
       "       'Cervical spondylosis', 'Paralysis (brain hemorrhage)', 'Jaundice',\n",
       "       'Malaria', 'Chicken pox', 'Dengue', 'Typhoid', 'hepatitis A',\n",
       "       'Hepatitis B', 'Hepatitis C', 'Hepatitis D', 'Hepatitis E',\n",
       "       'Alcoholic hepatitis', 'Tuberculosis', 'Common Cold', 'Pneumonia',\n",
       "       'Dimorphic hemmorhoids(piles)', 'Heart attack', 'Varicose veins',\n",
       "       'Hypothyroidism', 'Hyperthyroidism', 'Hypoglycemia',\n",
       "       'Osteoarthristis', 'Arthritis',\n",
       "       '(vertigo) Paroymsal  Positional Vertigo', 'Acne',\n",
       "       'Urinary tract infection', 'Psoriasis', 'Impetigo'], dtype=object)"
      ]
     },
     "execution_count": 11,
     "metadata": {},
     "output_type": "execute_result"
    }
   ],
   "source": [
    "y_train=train_df['prognosis']\n",
    "x_train=train_df.drop(['malaise',\n",
    " 'blurred_and_distorted_vision',\n",
    " 'phlegm',\n",
    " 'throat_irritation',\n",
    " 'redness_of_eyes',\n",
    " 'sinus_pressure',\n",
    " 'runny_nose',\n",
    " 'congestion',\n",
    " 'chest_pain',\n",
    " 'weakness_in_limbs',\n",
    " 'fast_heart_rate',\n",
    " 'pain_during_bowel_movements',\n",
    " 'pain_in_anal_region',\n",
    " 'bloody_stool',\n",
    " 'irritation_in_anus',\n",
    " 'neck_pain',\n",
    " 'dizziness',\n",
    " 'cramps',\n",
    " 'bruising',\n",
    " 'obesity',\n",
    " 'swollen_legs',\n",
    " 'swollen_blood_vessels',\n",
    " 'puffy_face_and_eyes',\n",
    " 'enlarged_thyroid',\n",
    " 'brittle_nails',\n",
    " 'swollen_extremeties',\n",
    " 'excessive_hunger',\n",
    " 'extra_marital_contacts',\n",
    " 'drying_and_tingling_lips',\n",
    " 'slurred_speech',\n",
    " 'knee_pain',\n",
    " 'hip_joint_pain',\n",
    " 'muscle_weakness',\n",
    " 'stiff_neck',\n",
    " 'swelling_joints',\n",
    " 'movement_stiffness',\n",
    " 'spinning_movements',\n",
    " 'loss_of_balance',\n",
    " 'unsteadiness',\n",
    " 'weakness_of_one_body_side',\n",
    " 'loss_of_smell',\n",
    " 'bladder_discomfort',\n",
    " 'foul_smell_of urine',\n",
    " 'continuous_feel_of_urine',\n",
    " 'passage_of_gases',\n",
    " 'internal_itching',\n",
    " 'toxic_look_(typhos)',\n",
    " 'depression',\n",
    " 'irritability',\n",
    " 'muscle_pain',\n",
    " 'altered_sensorium',\n",
    " 'red_spots_over_body',\n",
    " 'belly_pain',\n",
    " 'abnormal_menstruation',\n",
    " 'dischromic _patches',\n",
    " 'watering_from_eyes',\n",
    " 'increased_appetite',\n",
    " 'polyuria',\n",
    " 'family_history',\n",
    " 'mucoid_sputum',\n",
    " 'rusty_sputum',\n",
    " 'lack_of_concentration',\n",
    " 'visual_disturbances',\n",
    " 'receiving_blood_transfusion',\n",
    " 'receiving_unsterile_injections',\n",
    " 'coma',\n",
    " 'stomach_bleeding',\n",
    " 'distention_of_abdomen',\n",
    " 'history_of_alcohol_consumption',\n",
    " 'fluid_overload.1',\n",
    " 'blood_in_sputum',\n",
    " 'prominent_veins_on_calf',\n",
    " 'palpitations',\n",
    " 'painful_walking',\n",
    " 'pus_filled_pimples',\n",
    " 'blackheads',\n",
    " 'scurring',\n",
    " 'skin_peeling',\n",
    " 'silver_like_dusting',\n",
    " 'small_dents_in_nails',\n",
    " 'inflammatory_nails',\n",
    " 'blister',\n",
    " 'red_sore_around_nose',\n",
    " 'yellow_crust_ooze',\n",
    " 'prognosis'],axis=1)\n",
    "y_train.unique()"
   ]
  },
  {
   "cell_type": "code",
   "execution_count": 11,
   "id": "9aa897a7",
   "metadata": {
    "execution": {
     "iopub.execute_input": "2023-10-10T18:55:19.943169Z",
     "iopub.status.busy": "2023-10-10T18:55:19.942496Z",
     "iopub.status.idle": "2023-10-10T18:55:19.949318Z",
     "shell.execute_reply": "2023-10-10T18:55:19.947731Z"
    },
    "papermill": {
     "duration": 0.018594,
     "end_time": "2023-10-10T18:55:19.951531",
     "exception": false,
     "start_time": "2023-10-10T18:55:19.932937",
     "status": "completed"
    },
    "tags": []
   },
   "outputs": [
    {
     "name": "stdout",
     "output_type": "stream",
     "text": [
      "(4920, 48)\n"
     ]
    }
   ],
   "source": [
    "#print(x_train.shape)"
   ]
  },
  {
   "cell_type": "code",
   "execution_count": 51,
   "id": "8410a12c",
   "metadata": {
    "execution": {
     "iopub.execute_input": "2023-10-10T18:55:19.970842Z",
     "iopub.status.busy": "2023-10-10T18:55:19.970435Z",
     "iopub.status.idle": "2023-10-10T18:55:19.978463Z",
     "shell.execute_reply": "2023-10-10T18:55:19.977744Z"
    },
    "papermill": {
     "duration": 0.019797,
     "end_time": "2023-10-10T18:55:19.980223",
     "exception": false,
     "start_time": "2023-10-10T18:55:19.960426",
     "status": "completed"
    },
    "tags": []
   },
   "outputs": [],
   "source": [
    "#test_df.isna().sum()"
   ]
  },
  {
   "cell_type": "code",
   "execution_count": 12,
   "id": "c7c7a5d2",
   "metadata": {
    "execution": {
     "iopub.execute_input": "2023-10-10T18:55:20.000346Z",
     "iopub.status.busy": "2023-10-10T18:55:19.999692Z",
     "iopub.status.idle": "2023-10-10T18:55:20.009713Z",
     "shell.execute_reply": "2023-10-10T18:55:20.008496Z"
    },
    "papermill": {
     "duration": 0.023743,
     "end_time": "2023-10-10T18:55:20.012741",
     "exception": false,
     "start_time": "2023-10-10T18:55:19.988998",
     "status": "completed"
    },
    "tags": []
   },
   "outputs": [
    {
     "name": "stdout",
     "output_type": "stream",
     "text": [
      "Index(['itching', 'skin_rash', 'nodal_skin_eruptions', 'continuous_sneezing',\n",
      "       'shivering', 'chills', 'joint_pain', 'stomach_pain', 'acidity',\n",
      "       'ulcers_on_tongue', 'muscle_wasting', 'vomiting', 'burning_micturition',\n",
      "       'spotting_ urination', 'fatigue', 'weight_gain', 'anxiety',\n",
      "       'cold_hands_and_feets', 'mood_swings', 'weight_loss', 'restlessness',\n",
      "       'lethargy', 'patches_in_throat', 'irregular_sugar_level', 'cough',\n",
      "       'high_fever', 'sunken_eyes', 'breathlessness', 'sweating',\n",
      "       'dehydration', 'indigestion', 'headache', 'yellowish_skin',\n",
      "       'dark_urine', 'nausea', 'loss_of_appetite', 'pain_behind_the_eyes',\n",
      "       'back_pain', 'constipation', 'abdominal_pain', 'diarrhoea',\n",
      "       'mild_fever', 'yellow_urine', 'yellowing_of_eyes',\n",
      "       'acute_liver_failure', 'fluid_overload', 'swelling_of_stomach',\n",
      "       'swelled_lymph_nodes'],\n",
      "      dtype='object')\n"
     ]
    }
   ],
   "source": [
    "x_test=test_df.drop(['malaise',\n",
    " 'blurred_and_distorted_vision',\n",
    " 'phlegm',\n",
    " 'throat_irritation',\n",
    " 'redness_of_eyes',\n",
    " 'sinus_pressure',\n",
    " 'runny_nose',\n",
    " 'congestion',\n",
    " 'chest_pain',\n",
    " 'weakness_in_limbs',\n",
    " 'fast_heart_rate',\n",
    " 'pain_during_bowel_movements',\n",
    " 'pain_in_anal_region',\n",
    " 'bloody_stool',\n",
    " 'irritation_in_anus',\n",
    " 'neck_pain',\n",
    " 'dizziness',\n",
    " 'cramps',\n",
    " 'bruising',\n",
    " 'obesity',\n",
    " 'swollen_legs',\n",
    " 'swollen_blood_vessels',\n",
    " 'puffy_face_and_eyes',\n",
    " 'enlarged_thyroid',\n",
    " 'brittle_nails',\n",
    " 'swollen_extremeties',\n",
    " 'excessive_hunger',\n",
    " 'extra_marital_contacts',\n",
    " 'drying_and_tingling_lips',\n",
    " 'slurred_speech',\n",
    " 'knee_pain',\n",
    " 'hip_joint_pain',\n",
    " 'muscle_weakness',\n",
    " 'stiff_neck',\n",
    " 'swelling_joints',\n",
    " 'movement_stiffness',\n",
    " 'spinning_movements',\n",
    " 'loss_of_balance',\n",
    " 'unsteadiness',\n",
    " 'weakness_of_one_body_side',\n",
    " 'loss_of_smell',\n",
    " 'bladder_discomfort',\n",
    " 'foul_smell_of urine',\n",
    " 'continuous_feel_of_urine',\n",
    " 'passage_of_gases',\n",
    " 'internal_itching',\n",
    " 'toxic_look_(typhos)',\n",
    " 'depression',\n",
    " 'irritability',\n",
    " 'muscle_pain',\n",
    " 'altered_sensorium',\n",
    " 'red_spots_over_body',\n",
    " 'belly_pain',\n",
    " 'abnormal_menstruation',\n",
    " 'dischromic _patches',\n",
    " 'watering_from_eyes',\n",
    " 'increased_appetite',\n",
    " 'polyuria',\n",
    " 'family_history',\n",
    " 'mucoid_sputum',\n",
    " 'rusty_sputum',\n",
    " 'lack_of_concentration',\n",
    " 'visual_disturbances',\n",
    " 'receiving_blood_transfusion',\n",
    " 'receiving_unsterile_injections',\n",
    " 'coma',\n",
    " 'stomach_bleeding',\n",
    " 'distention_of_abdomen',\n",
    " 'history_of_alcohol_consumption',\n",
    " 'fluid_overload.1',\n",
    " 'blood_in_sputum',\n",
    " 'prominent_veins_on_calf',\n",
    " 'palpitations',\n",
    " 'painful_walking',\n",
    " 'pus_filled_pimples',\n",
    " 'blackheads',\n",
    " 'scurring',\n",
    " 'skin_peeling',\n",
    " 'silver_like_dusting',\n",
    " 'small_dents_in_nails',\n",
    " 'inflammatory_nails',\n",
    " 'blister',\n",
    " 'red_sore_around_nose',\n",
    " 'yellow_crust_ooze',\n",
    " 'prognosis'],axis=1)\n",
    "y_test=test_df['prognosis']\n",
    "print(x_train.columns)"
   ]
  },
  {
   "cell_type": "code",
   "execution_count": 128,
   "id": "dd40201b",
   "metadata": {
    "execution": {
     "iopub.execute_input": "2023-10-10T18:55:20.033121Z",
     "iopub.status.busy": "2023-10-10T18:55:20.032641Z",
     "iopub.status.idle": "2023-10-10T18:55:20.038713Z",
     "shell.execute_reply": "2023-10-10T18:55:20.037088Z"
    },
    "papermill": {
     "duration": 0.020077,
     "end_time": "2023-10-10T18:55:20.042255",
     "exception": false,
     "start_time": "2023-10-10T18:55:20.022178",
     "status": "completed"
    },
    "tags": []
   },
   "outputs": [],
   "source": [
    "#print(len(test_df['prognosis'].unique()))"
   ]
  },
  {
   "cell_type": "code",
   "execution_count": 56,
   "id": "aa803746",
   "metadata": {
    "execution": {
     "iopub.execute_input": "2023-10-10T18:55:20.062636Z",
     "iopub.status.busy": "2023-10-10T18:55:20.061562Z",
     "iopub.status.idle": "2023-10-10T18:55:20.069923Z",
     "shell.execute_reply": "2023-10-10T18:55:20.068026Z"
    },
    "papermill": {
     "duration": 0.021626,
     "end_time": "2023-10-10T18:55:20.073041",
     "exception": false,
     "start_time": "2023-10-10T18:55:20.051415",
     "status": "completed"
    },
    "tags": []
   },
   "outputs": [],
   "source": [
    "# x_train.shape\n",
    "# x_test.shape\n",
    "# print(x_train[:0])"
   ]
  },
  {
   "cell_type": "code",
   "execution_count": 13,
   "id": "c38910ad",
   "metadata": {
    "execution": {
     "iopub.execute_input": "2023-10-10T18:55:20.096408Z",
     "iopub.status.busy": "2023-10-10T18:55:20.095405Z",
     "iopub.status.idle": "2023-10-10T18:55:20.102322Z",
     "shell.execute_reply": "2023-10-10T18:55:20.101170Z"
    },
    "papermill": {
     "duration": 0.020007,
     "end_time": "2023-10-10T18:55:20.104851",
     "exception": false,
     "start_time": "2023-10-10T18:55:20.084844",
     "status": "completed"
    },
    "tags": []
   },
   "outputs": [
    {
     "data": {
      "text/html": [
       "<div>\n",
       "<style scoped>\n",
       "    .dataframe tbody tr th:only-of-type {\n",
       "        vertical-align: middle;\n",
       "    }\n",
       "\n",
       "    .dataframe tbody tr th {\n",
       "        vertical-align: top;\n",
       "    }\n",
       "\n",
       "    .dataframe thead th {\n",
       "        text-align: right;\n",
       "    }\n",
       "</style>\n",
       "<table border=\"1\" class=\"dataframe\">\n",
       "  <thead>\n",
       "    <tr style=\"text-align: right;\">\n",
       "      <th></th>\n",
       "      <th>0</th>\n",
       "    </tr>\n",
       "  </thead>\n",
       "  <tbody>\n",
       "    <tr>\n",
       "      <th>0</th>\n",
       "      <td>15</td>\n",
       "    </tr>\n",
       "    <tr>\n",
       "      <th>1</th>\n",
       "      <td>15</td>\n",
       "    </tr>\n",
       "    <tr>\n",
       "      <th>2</th>\n",
       "      <td>15</td>\n",
       "    </tr>\n",
       "    <tr>\n",
       "      <th>3</th>\n",
       "      <td>15</td>\n",
       "    </tr>\n",
       "    <tr>\n",
       "      <th>4</th>\n",
       "      <td>15</td>\n",
       "    </tr>\n",
       "  </tbody>\n",
       "</table>\n",
       "</div>"
      ],
      "text/plain": [
       "    0\n",
       "0  15\n",
       "1  15\n",
       "2  15\n",
       "3  15\n",
       "4  15"
      ]
     },
     "execution_count": 13,
     "metadata": {},
     "output_type": "execute_result"
    }
   ],
   "source": [
    "le=LabelEncoder()\n",
    "dummy=le.fit_transform(train_df['prognosis'])\n",
    "y_train=pd.DataFrame(dummy)\n",
    "y_train.head()"
   ]
  },
  {
   "cell_type": "markdown",
   "id": "1971afe8",
   "metadata": {
    "papermill": {
     "duration": 0.008227,
     "end_time": "2023-10-10T18:55:20.121865",
     "exception": false,
     "start_time": "2023-10-10T18:55:20.113638",
     "status": "completed"
    },
    "tags": []
   },
   "source": [
    "## Listing the indices of diseases"
   ]
  },
  {
   "cell_type": "code",
   "execution_count": 42,
   "id": "af16ada2",
   "metadata": {},
   "outputs": [
    {
     "data": {
      "text/plain": [
       "array(['(vertigo) Paroymsal  Positional Vertigo', 'AIDS', 'Acne',\n",
       "       'Alcoholic hepatitis', 'Allergy', 'Arthritis', 'Bronchial Asthma',\n",
       "       'Cervical spondylosis', 'Chicken pox', 'Chronic cholestasis',\n",
       "       'Common Cold', 'Dengue', 'Diabetes ',\n",
       "       'Dimorphic hemmorhoids(piles)', 'Drug Reaction',\n",
       "       'Fungal infection', 'GERD', 'Gastroenteritis', 'Heart attack',\n",
       "       'Hepatitis B', 'Hepatitis C', 'Hepatitis D', 'Hepatitis E',\n",
       "       'Hypertension ', 'Hyperthyroidism', 'Hypoglycemia',\n",
       "       'Hypothyroidism', 'Impetigo', 'Jaundice', 'Malaria', 'Migraine',\n",
       "       'Osteoarthristis', 'Paralysis (brain hemorrhage)',\n",
       "       'Peptic ulcer diseae', 'Pneumonia', 'Psoriasis', 'Tuberculosis',\n",
       "       'Typhoid', 'Urinary tract infection', 'Varicose veins',\n",
       "       'hepatitis A'], dtype=object)"
      ]
     },
     "execution_count": 42,
     "metadata": {},
     "output_type": "execute_result"
    }
   ],
   "source": [
    "disease_classes = le.classes_\n",
    "disease_classes "
   ]
  },
  {
   "cell_type": "code",
   "execution_count": null,
   "id": "8bc81a6f",
   "metadata": {},
   "outputs": [],
   "source": [
    "disease_classes = ['(vertigo) Paroymsal  Positional Vertigo', 'AIDS', 'Acne',\n",
    "       'Alcoholic hepatitis', 'Allergy', 'Arthritis', 'Bronchial Asthma',\n",
    "       'Cervical spondylosis', 'Chicken pox', 'Chronic cholestasis',\n",
    "       'Common Cold', 'Dengue', 'Diabetes ',\n",
    "       'Dimorphic hemmorhoids(piles)', 'Drug Reaction',\n",
    "       'Fungal infection', 'GERD', 'Gastroenteritis', 'Heart attack',\n",
    "       'Hepatitis B', 'Hepatitis C', 'Hepatitis D', 'Hepatitis E',\n",
    "       'Hypertension ', 'Hyperthyroidism', 'Hypoglycemia',\n",
    "       'Hypothyroidism', 'Impetigo', 'Jaundice', 'Malaria', 'Migraine',\n",
    "       'Osteoarthristis', 'Paralysis (brain hemorrhage)',\n",
    "       'Peptic ulcer diseae', 'Pneumonia', 'Psoriasis', 'Tuberculosis',\n",
    "       'Typhoid', 'Urinary tract infection', 'Varicose veins',\n",
    "       'hepatitis A']"
   ]
  },
  {
   "cell_type": "code",
   "execution_count": 41,
   "id": "654058c7",
   "metadata": {},
   "outputs": [
    {
     "data": {
      "text/plain": [
       "'(vertigo) Paroymsal  Positional Vertigo'"
      ]
     },
     "execution_count": 41,
     "metadata": {},
     "output_type": "execute_result"
    }
   ],
   "source": [
    "le.classes_[0]"
   ]
  },
  {
   "cell_type": "code",
   "execution_count": 61,
   "id": "269910ab",
   "metadata": {
    "execution": {
     "iopub.execute_input": "2023-10-10T18:55:20.141409Z",
     "iopub.status.busy": "2023-10-10T18:55:20.140523Z",
     "iopub.status.idle": "2023-10-10T18:55:20.147309Z",
     "shell.execute_reply": "2023-10-10T18:55:20.145648Z"
    },
    "papermill": {
     "duration": 0.019077,
     "end_time": "2023-10-10T18:55:20.149609",
     "exception": false,
     "start_time": "2023-10-10T18:55:20.130532",
     "status": "completed"
    },
    "tags": []
   },
   "outputs": [],
   "source": [
    "#print(le.classes_)"
   ]
  },
  {
   "cell_type": "code",
   "execution_count": 63,
   "id": "0d1d00a8",
   "metadata": {
    "execution": {
     "iopub.execute_input": "2023-10-10T18:55:20.168862Z",
     "iopub.status.busy": "2023-10-10T18:55:20.168455Z",
     "iopub.status.idle": "2023-10-10T18:55:20.176323Z",
     "shell.execute_reply": "2023-10-10T18:55:20.174746Z"
    },
    "papermill": {
     "duration": 0.020236,
     "end_time": "2023-10-10T18:55:20.178724",
     "exception": false,
     "start_time": "2023-10-10T18:55:20.158488",
     "status": "completed"
    },
    "tags": []
   },
   "outputs": [],
   "source": [
    "#y_train.head()\n",
    "#print(y_train)"
   ]
  },
  {
   "cell_type": "code",
   "execution_count": 15,
   "id": "49382f0d",
   "metadata": {
    "execution": {
     "iopub.execute_input": "2023-10-10T18:55:20.264879Z",
     "iopub.status.busy": "2023-10-10T18:55:20.264458Z",
     "iopub.status.idle": "2023-10-10T18:55:20.272366Z",
     "shell.execute_reply": "2023-10-10T18:55:20.271073Z"
    },
    "papermill": {
     "duration": 0.020879,
     "end_time": "2023-10-10T18:55:20.274743",
     "exception": false,
     "start_time": "2023-10-10T18:55:20.253864",
     "status": "completed"
    },
    "tags": []
   },
   "outputs": [
    {
     "data": {
      "text/plain": [
       "42"
      ]
     },
     "execution_count": 15,
     "metadata": {},
     "output_type": "execute_result"
    }
   ],
   "source": [
    "dummy=LabelEncoder().fit_transform(test_df['prognosis'])\n",
    "y_test=pd.DataFrame(dummy)\n",
    "y_test.head()\n",
    "len(y_test)"
   ]
  },
  {
   "cell_type": "code",
   "execution_count": 16,
   "id": "d90f47db",
   "metadata": {
    "execution": {
     "iopub.execute_input": "2023-10-10T18:55:20.297037Z",
     "iopub.status.busy": "2023-10-10T18:55:20.296487Z",
     "iopub.status.idle": "2023-10-10T18:55:20.425136Z",
     "shell.execute_reply": "2023-10-10T18:55:20.424045Z"
    },
    "papermill": {
     "duration": 0.142465,
     "end_time": "2023-10-10T18:55:20.427627",
     "exception": false,
     "start_time": "2023-10-10T18:55:20.285162",
     "status": "completed"
    },
    "tags": []
   },
   "outputs": [],
   "source": [
    "model=Sequential([\n",
    "    Dense(units=200,activation='relu'),\n",
    "    Dense(units=150,activation='relu'),\n",
    "    Dense(units=100, activation='relu'),\n",
    "    Dense(units=42,activation='softmax')\n",
    "])"
   ]
  },
  {
   "cell_type": "code",
   "execution_count": 17,
   "id": "e6c4d634",
   "metadata": {
    "execution": {
     "iopub.execute_input": "2023-10-10T18:55:20.448618Z",
     "iopub.status.busy": "2023-10-10T18:55:20.448250Z",
     "iopub.status.idle": "2023-10-10T18:55:20.480928Z",
     "shell.execute_reply": "2023-10-10T18:55:20.479666Z"
    },
    "papermill": {
     "duration": 0.046283,
     "end_time": "2023-10-10T18:55:20.483492",
     "exception": false,
     "start_time": "2023-10-10T18:55:20.437209",
     "status": "completed"
    },
    "tags": []
   },
   "outputs": [],
   "source": [
    "model.compile(\n",
    "    loss=SparseCategoricalCrossentropy(from_logits=True),\n",
    "    optimizer=tf.keras.optimizers.Adam(learning_rate=0.001),\n",
    "    metrics=['accuracy'])\n",
    "# model.summary()"
   ]
  },
  {
   "cell_type": "code",
   "execution_count": 18,
   "id": "f9d73aae",
   "metadata": {
    "execution": {
     "iopub.execute_input": "2023-10-10T18:55:20.504702Z",
     "iopub.status.busy": "2023-10-10T18:55:20.503710Z",
     "iopub.status.idle": "2023-10-10T18:55:24.033246Z",
     "shell.execute_reply": "2023-10-10T18:55:24.032301Z"
    },
    "papermill": {
     "duration": 3.542793,
     "end_time": "2023-10-10T18:55:24.036193",
     "exception": false,
     "start_time": "2023-10-10T18:55:20.493400",
     "status": "completed"
    },
    "tags": []
   },
   "outputs": [
    {
     "name": "stdout",
     "output_type": "stream",
     "text": [
      "Epoch 1/10\n"
     ]
    },
    {
     "name": "stderr",
     "output_type": "stream",
     "text": [
      "c:\\Users\\ThisPC\\anaconda3\\envs\\tf-new\\lib\\site-packages\\keras\\backend.py:5582: UserWarning: \"`sparse_categorical_crossentropy` received `from_logits=True`, but the `output` argument was produced by a Softmax activation and thus does not represent logits. Was this intended?\n",
      "  output, from_logits = _get_logits(\n"
     ]
    },
    {
     "name": "stdout",
     "output_type": "stream",
     "text": [
      "35/39 [=========================>....] - ETA: 0s - loss: 3.1387 - accuracy: 0.5384"
     ]
    },
    {
     "name": "stderr",
     "output_type": "stream",
     "text": [
      "c:\\Users\\ThisPC\\anaconda3\\envs\\tf-new\\lib\\site-packages\\keras\\backend.py:5582: UserWarning: \"`sparse_categorical_crossentropy` received `from_logits=True`, but the `output` argument was produced by a Softmax activation and thus does not represent logits. Was this intended?\n",
      "  output, from_logits = _get_logits(\n"
     ]
    },
    {
     "name": "stdout",
     "output_type": "stream",
     "text": [
      "39/39 [==============================] - 2s 17ms/step - loss: 3.0268 - accuracy: 0.5589 - val_loss: 1.5830 - val_accuracy: 0.8333\n",
      "Epoch 2/10\n",
      "39/39 [==============================] - 0s 7ms/step - loss: 0.7521 - accuracy: 0.9053 - val_loss: 0.1656 - val_accuracy: 1.0000\n",
      "Epoch 3/10\n",
      "39/39 [==============================] - 0s 5ms/step - loss: 0.1614 - accuracy: 0.9772 - val_loss: 0.0487 - val_accuracy: 1.0000\n",
      "Epoch 4/10\n",
      "39/39 [==============================] - 0s 5ms/step - loss: 0.1105 - accuracy: 0.9770 - val_loss: 0.0336 - val_accuracy: 1.0000\n",
      "Epoch 5/10\n",
      "39/39 [==============================] - 0s 5ms/step - loss: 0.1012 - accuracy: 0.9780 - val_loss: 0.0365 - val_accuracy: 1.0000\n",
      "Epoch 6/10\n",
      "39/39 [==============================] - 0s 5ms/step - loss: 0.0989 - accuracy: 0.9780 - val_loss: 0.0193 - val_accuracy: 1.0000\n",
      "Epoch 7/10\n",
      "39/39 [==============================] - 0s 5ms/step - loss: 0.0929 - accuracy: 0.9780 - val_loss: 0.0138 - val_accuracy: 1.0000\n",
      "Epoch 8/10\n",
      "39/39 [==============================] - 0s 5ms/step - loss: 0.0929 - accuracy: 0.9780 - val_loss: 0.0202 - val_accuracy: 1.0000\n",
      "Epoch 9/10\n",
      "39/39 [==============================] - 0s 5ms/step - loss: 0.0886 - accuracy: 0.9780 - val_loss: 0.0196 - val_accuracy: 1.0000\n",
      "Epoch 10/10\n",
      "39/39 [==============================] - 0s 5ms/step - loss: 0.0880 - accuracy: 0.9780 - val_loss: 0.0250 - val_accuracy: 1.0000\n"
     ]
    }
   ],
   "source": [
    "history=model.fit(x_train,y_train,epochs=10,batch_size=128,validation_data=(x_test,y_test))"
   ]
  },
  {
   "cell_type": "code",
   "execution_count": 19,
   "id": "35bd8a72",
   "metadata": {
    "execution": {
     "iopub.execute_input": "2023-10-10T18:55:24.075707Z",
     "iopub.status.busy": "2023-10-10T18:55:24.074962Z",
     "iopub.status.idle": "2023-10-10T18:55:24.293743Z",
     "shell.execute_reply": "2023-10-10T18:55:24.292635Z"
    },
    "papermill": {
     "duration": 0.242024,
     "end_time": "2023-10-10T18:55:24.295899",
     "exception": false,
     "start_time": "2023-10-10T18:55:24.053875",
     "status": "completed"
    },
    "tags": []
   },
   "outputs": [
    {
     "name": "stdout",
     "output_type": "stream",
     "text": [
      "2/2 [==============================] - 0s 7ms/step\n"
     ]
    },
    {
     "data": {
      "text/plain": [
       "array([3.3124891e-07, 4.5550632e-07, 2.1973233e-06, 1.0669686e-09,\n",
       "       9.9995142e-01, 3.8618105e-06, 6.7590389e-10, 4.1034259e-06,\n",
       "       5.4734601e-06, 1.5718626e-07, 4.4301260e-06, 1.1694612e-05,\n",
       "       8.2231196e-08, 1.7798063e-08, 1.2072307e-07, 1.7011756e-08,\n",
       "       3.2547055e-07, 3.3040399e-07, 2.1977925e-08, 9.3341579e-10,\n",
       "       9.8381031e-07, 5.6101057e-09, 1.0139285e-09, 7.8354215e-06,\n",
       "       1.3963325e-09, 5.8730754e-09, 6.3944810e-08, 1.8352785e-07,\n",
       "       4.0537538e-09, 9.3850224e-07, 8.6332816e-09, 2.5207993e-09,\n",
       "       3.8510362e-07, 3.3739329e-07, 1.1252773e-06, 4.1131325e-09,\n",
       "       1.0104640e-07, 9.2458372e-08, 6.6713881e-08, 2.6823986e-06,\n",
       "       6.7709553e-12, 1.4221919e-10], dtype=float32)"
      ]
     },
     "execution_count": 19,
     "metadata": {},
     "output_type": "execute_result"
    }
   ],
   "source": [
    "prediction=model.predict(x_test)\n",
    "prediction[1]"
   ]
  },
  {
   "cell_type": "code",
   "execution_count": 69,
   "id": "35504f25",
   "metadata": {
    "execution": {
     "iopub.execute_input": "2023-10-10T18:55:24.323480Z",
     "iopub.status.busy": "2023-10-10T18:55:24.322623Z",
     "iopub.status.idle": "2023-10-10T18:55:24.802759Z",
     "shell.execute_reply": "2023-10-10T18:55:24.801780Z"
    },
    "papermill": {
     "duration": 0.497419,
     "end_time": "2023-10-10T18:55:24.805672",
     "exception": false,
     "start_time": "2023-10-10T18:55:24.308253",
     "status": "completed"
    },
    "tags": []
   },
   "outputs": [],
   "source": [
    "# import matplotlib.pyplot as plt\n",
    "# plt.plot(history.history['loss'], label='train')\n",
    "# plt.xlabel('epochs')\n",
    "# plt.ylabel('loss')\n",
    "# plt.show()\n",
    "\n",
    "# plt.plot(history.history['accuracy'])\n",
    "# plt.xlabel('epochs')\n",
    "# plt.ylabel('accuracy')\n",
    "# plt.show()\n"
   ]
  },
  {
   "cell_type": "code",
   "execution_count": 20,
   "id": "b0eb418b",
   "metadata": {
    "execution": {
     "iopub.execute_input": "2023-10-10T18:55:24.841276Z",
     "iopub.status.busy": "2023-10-10T18:55:24.840788Z",
     "iopub.status.idle": "2023-10-10T18:55:24.848406Z",
     "shell.execute_reply": "2023-10-10T18:55:24.847018Z"
    },
    "papermill": {
     "duration": 0.025801,
     "end_time": "2023-10-10T18:55:24.850755",
     "exception": false,
     "start_time": "2023-10-10T18:55:24.824954",
     "status": "completed"
    },
    "tags": []
   },
   "outputs": [
    {
     "name": "stdout",
     "output_type": "stream",
     "text": [
      "15\n"
     ]
    }
   ],
   "source": [
    "pred=np.argmax(prediction, axis=1)\n",
    "original=y_test[0]\n",
    "print(original[41])"
   ]
  },
  {
   "cell_type": "code",
   "execution_count": 71,
   "id": "393067b7",
   "metadata": {
    "execution": {
     "iopub.execute_input": "2023-10-10T18:55:24.879611Z",
     "iopub.status.busy": "2023-10-10T18:55:24.878791Z",
     "iopub.status.idle": "2023-10-10T18:55:24.884574Z",
     "shell.execute_reply": "2023-10-10T18:55:24.883586Z"
    },
    "papermill": {
     "duration": 0.022756,
     "end_time": "2023-10-10T18:55:24.886627",
     "exception": false,
     "start_time": "2023-10-10T18:55:24.863871",
     "status": "completed"
    },
    "tags": []
   },
   "outputs": [
    {
     "name": "stdout",
     "output_type": "stream",
     "text": [
      "42\n"
     ]
    }
   ],
   "source": [
    "print(y_test.shape[0])"
   ]
  },
  {
   "cell_type": "code",
   "execution_count": 72,
   "id": "53c4dfdb",
   "metadata": {
    "execution": {
     "iopub.execute_input": "2023-10-10T18:55:24.915671Z",
     "iopub.status.busy": "2023-10-10T18:55:24.914408Z",
     "iopub.status.idle": "2023-10-10T18:55:26.815925Z",
     "shell.execute_reply": "2023-10-10T18:55:26.814746Z"
    },
    "papermill": {
     "duration": 1.918741,
     "end_time": "2023-10-10T18:55:26.818507",
     "exception": false,
     "start_time": "2023-10-10T18:55:24.899766",
     "status": "completed"
    },
    "tags": []
   },
   "outputs": [],
   "source": [
    "# confusion = confusion_matrix(original,pred)\n",
    "\n",
    "# fig = px.imshow(confusion, labels=dict(x=\"Predicted Value\", y=\"Actual Vlaue\"),text_auto=True, title='Confusion Matrix')\n",
    "# fig.update_layout(title_x=0.5)\n",
    "# fig.show()"
   ]
  },
  {
   "cell_type": "code",
   "execution_count": 21,
   "id": "594fa317",
   "metadata": {
    "execution": {
     "iopub.execute_input": "2023-10-10T18:55:26.847687Z",
     "iopub.status.busy": "2023-10-10T18:55:26.846972Z",
     "iopub.status.idle": "2023-10-10T18:55:26.853742Z",
     "shell.execute_reply": "2023-10-10T18:55:26.852948Z"
    },
    "papermill": {
     "duration": 0.023905,
     "end_time": "2023-10-10T18:55:26.856111",
     "exception": false,
     "start_time": "2023-10-10T18:55:26.832206",
     "status": "completed"
    },
    "tags": []
   },
   "outputs": [
    {
     "name": "stdout",
     "output_type": "stream",
     "text": [
      "Predicted: 15, Actual: 15\n",
      "Predicted: 4, Actual: 4\n",
      "Predicted: 16, Actual: 16\n",
      "Predicted: 9, Actual: 9\n",
      "Predicted: 14, Actual: 14\n",
      "Predicted: 33, Actual: 33\n",
      "Predicted: 1, Actual: 1\n",
      "Predicted: 12, Actual: 12\n",
      "Predicted: 17, Actual: 17\n",
      "Predicted: 6, Actual: 6\n"
     ]
    }
   ],
   "source": [
    "count=0\n",
    "for i in range(41):\n",
    "    if(pred[i]-original[i]!=0):\n",
    "        count+=1\n",
    "\n",
    "Test_accuracy=(42-count)/42*100\n",
    "for i in range(10):\n",
    "    print(f\"Predicted: {pred[i]}, Actual: {original[i]}\")"
   ]
  },
  {
   "cell_type": "code",
   "execution_count": 26,
   "id": "0c7e41eb",
   "metadata": {},
   "outputs": [],
   "source": [
    "\"\"\"\n",
    "A function that takes in a list of numbers corresponsing to the symptom. Returns a dataframe suitable to undergo prediction\n",
    "\"\"\"\n",
    "def dis_data(values):\n",
    "    symp_keys = x_train.columns\n",
    "    symp_values = values\n",
    "    dic = {symp_keys[i]: symp_values[i] for i in range(len(symp_keys))}\n",
    "    df = pd.DataFrame(list(dic.items())).transpose()\n",
    "    df.columns = df.iloc[0]\n",
    "    df.drop(index=0, inplace=True)\n",
    "    df.reset_index(inplace=True)\n",
    "    df.drop(columns=\"index\", inplace=True)\n",
    "\n",
    "    return df\n",
    "    "
   ]
  },
  {
   "cell_type": "code",
   "execution_count": 59,
   "id": "3e0756a7",
   "metadata": {},
   "outputs": [
    {
     "name": "stdout",
     "output_type": "stream",
     "text": [
      "1/1 [==============================] - 0s 101ms/step\n"
     ]
    },
    {
     "data": {
      "text/plain": [
       "array([[2.01128292e-04, 9.12925752e-04, 6.94964826e-03, 5.57587828e-06,\n",
       "        9.68955979e-02, 4.30481881e-02, 4.76312940e-04, 4.76899557e-02,\n",
       "        1.08913295e-02, 1.10323576e-03, 2.51480145e-04, 5.16108121e-04,\n",
       "        4.00438512e-05, 8.15951644e-05, 3.40958834e-02, 6.47325814e-01,\n",
       "        1.08919623e-04, 1.26972399e-03, 2.09709746e-04, 5.52818354e-04,\n",
       "        3.91845242e-05, 1.68295321e-06, 3.18758612e-06, 3.15256827e-02,\n",
       "        5.58357569e-05, 2.09753547e-04, 1.17213312e-04, 9.64011881e-04,\n",
       "        9.06928908e-05, 1.13550771e-03, 8.28609336e-06, 1.79478675e-02,\n",
       "        7.70598184e-03, 3.61207203e-05, 2.35386455e-04, 4.29445383e-04,\n",
       "        1.54163499e-04, 1.65919773e-05, 3.01004890e-02, 1.65950488e-02,\n",
       "        1.50949177e-06, 3.11954892e-07]], dtype=float32)"
      ]
     },
     "execution_count": 59,
     "metadata": {},
     "output_type": "execute_result"
    }
   ],
   "source": [
    "d = [0, 0, 0, 0, 1, 0, 0, 0, 0, 0, 0, 0, 0, 0, 0, 0, 0, 0, 0, 0, 0, 0, 0, 0, 0, 0, 0, 0, 0, 0, 0, 0, 0, 0, 0, 0, 0, 0, 0, 0, 0, 0, 0, 0, 0, 0, 0, 0]\n",
    "da = dis_data(d)\n",
    "da[\"itching\"] = 1\n",
    "#g = da.iloc[0].to_list()\n",
    "ga = np.asarray(da).astype(np.float32)\n",
    "model.predict(ga)\n",
    "#da.to_csv(\"empty_df.csv\")"
   ]
  },
  {
   "cell_type": "code",
   "execution_count": 60,
   "id": "c78c3761",
   "metadata": {},
   "outputs": [
    {
     "data": {
      "text/plain": [
       "0"
      ]
     },
     "execution_count": 60,
     "metadata": {},
     "output_type": "execute_result"
    }
   ],
   "source": [
    "pred_ga=np.argmax(ga, axis=1)\n",
    "pred_ga[0]"
   ]
  },
  {
   "cell_type": "code",
   "execution_count": 62,
   "id": "e87c4ea1",
   "metadata": {},
   "outputs": [
    {
     "data": {
      "text/plain": [
       "'(vertigo) Paroymsal  Positional Vertigo'"
      ]
     },
     "execution_count": 62,
     "metadata": {},
     "output_type": "execute_result"
    }
   ],
   "source": [
    "disease_classes[0]"
   ]
  },
  {
   "cell_type": "code",
   "execution_count": 119,
   "id": "5e924513",
   "metadata": {},
   "outputs": [
    {
     "data": {
      "text/plain": [
       "array([[1., 0., 0., 0., 0., 1., 1., 0., 1., 1., 1., 0., 0., 0., 1., 1.,\n",
       "        0., 1., 0., 1., 0., 0., 0., 0., 1., 1., 1., 1., 1., 0., 1., 0.,\n",
       "        1., 1., 1., 0., 0., 1., 0., 1., 1., 0., 0., 0., 0., 0., 1., 1.]],\n",
       "      dtype=float32)"
      ]
     },
     "execution_count": 119,
     "metadata": {},
     "output_type": "execute_result"
    }
   ],
   "source": [
    "ti = [1, 0, 0, 0, 0, 1, 1, 0, 1, 1, 1, 0, 0, 0, 1, 1, 0, 1, 0, 1, 0, 0, 0, 0, 1, 1, 1, 1, 1, 0, 1, 0, 1, 1, 1, 0, 0, 1, 0, 1, 1, 0, 0, 0, 0, 0, 1, 1]\n",
    "t = dis_data(ti)\n",
    "t = np.asarray(t).astype(np.float32)\n",
    "t"
   ]
  },
  {
   "cell_type": "code",
   "execution_count": 121,
   "id": "61631517",
   "metadata": {},
   "outputs": [
    {
     "name": "stdout",
     "output_type": "stream",
     "text": [
      "1/1 [==============================] - 0s 44ms/step\n"
     ]
    }
   ],
   "source": [
    "predict = model.predict(t)"
   ]
  },
  {
   "cell_type": "code",
   "execution_count": 125,
   "id": "f08f9ad4",
   "metadata": {},
   "outputs": [
    {
     "data": {
      "text/plain": [
       "36"
      ]
     },
     "execution_count": 125,
     "metadata": {},
     "output_type": "execute_result"
    }
   ],
   "source": [
    "pred=np.argmax(predict, axis=1)\n",
    "pred[0]"
   ]
  },
  {
   "cell_type": "code",
   "execution_count": 126,
   "id": "430123c5",
   "metadata": {},
   "outputs": [],
   "source": [
    "# filepath = 'ann_model.joblib'\n",
    "# model.save(\"filepath=\")"
   ]
  },
  {
   "cell_type": "code",
   "execution_count": 89,
   "id": "f357b35b",
   "metadata": {},
   "outputs": [],
   "source": [
    "#restored_model = tf.keras.models.load_model(filepath=\"\\saved_model.pb\")"
   ]
  },
  {
   "cell_type": "code",
   "execution_count": 91,
   "id": "ce1408e7",
   "metadata": {},
   "outputs": [],
   "source": [
    "# from joblib import dump,load\n",
    "# filename = 'ann_model.joblib'\n",
    "# model = model\n",
    "# dump(model, filename)"
   ]
  },
  {
   "cell_type": "code",
   "execution_count": 90,
   "id": "aa2ef18a",
   "metadata": {},
   "outputs": [],
   "source": [
    "# ann_model = load(\"ann_model.joblib\")"
   ]
  },
  {
   "cell_type": "code",
   "execution_count": null,
   "id": "71b0827a",
   "metadata": {},
   "outputs": [],
   "source": []
  },
  {
   "cell_type": "code",
   "execution_count": 93,
   "id": "58d121de",
   "metadata": {},
   "outputs": [],
   "source": [
    "#x_train.head()"
   ]
  },
  {
   "cell_type": "code",
   "execution_count": 94,
   "id": "6e40193a",
   "metadata": {},
   "outputs": [],
   "source": [
    "#y_train.head()"
   ]
  },
  {
   "cell_type": "code",
   "execution_count": 95,
   "id": "9cf637c9",
   "metadata": {},
   "outputs": [],
   "source": [
    "#np.ravel(y_train)"
   ]
  },
  {
   "cell_type": "code",
   "execution_count": 44,
   "id": "dfc501f6",
   "metadata": {
    "execution": {
     "iopub.execute_input": "2023-10-10T18:55:26.921307Z",
     "iopub.status.busy": "2023-10-10T18:55:26.920420Z",
     "iopub.status.idle": "2023-10-10T18:55:27.345847Z",
     "shell.execute_reply": "2023-10-10T18:55:27.344751Z"
    },
    "papermill": {
     "duration": 0.442653,
     "end_time": "2023-10-10T18:55:27.347978",
     "exception": false,
     "start_time": "2023-10-10T18:55:26.905325",
     "status": "completed"
    },
    "tags": []
   },
   "outputs": [
    {
     "data": {
      "text/html": [
       "<style>#sk-container-id-1 {color: black;background-color: white;}#sk-container-id-1 pre{padding: 0;}#sk-container-id-1 div.sk-toggleable {background-color: white;}#sk-container-id-1 label.sk-toggleable__label {cursor: pointer;display: block;width: 100%;margin-bottom: 0;padding: 0.3em;box-sizing: border-box;text-align: center;}#sk-container-id-1 label.sk-toggleable__label-arrow:before {content: \"▸\";float: left;margin-right: 0.25em;color: #696969;}#sk-container-id-1 label.sk-toggleable__label-arrow:hover:before {color: black;}#sk-container-id-1 div.sk-estimator:hover label.sk-toggleable__label-arrow:before {color: black;}#sk-container-id-1 div.sk-toggleable__content {max-height: 0;max-width: 0;overflow: hidden;text-align: left;background-color: #f0f8ff;}#sk-container-id-1 div.sk-toggleable__content pre {margin: 0.2em;color: black;border-radius: 0.25em;background-color: #f0f8ff;}#sk-container-id-1 input.sk-toggleable__control:checked~div.sk-toggleable__content {max-height: 200px;max-width: 100%;overflow: auto;}#sk-container-id-1 input.sk-toggleable__control:checked~label.sk-toggleable__label-arrow:before {content: \"▾\";}#sk-container-id-1 div.sk-estimator input.sk-toggleable__control:checked~label.sk-toggleable__label {background-color: #d4ebff;}#sk-container-id-1 div.sk-label input.sk-toggleable__control:checked~label.sk-toggleable__label {background-color: #d4ebff;}#sk-container-id-1 input.sk-hidden--visually {border: 0;clip: rect(1px 1px 1px 1px);clip: rect(1px, 1px, 1px, 1px);height: 1px;margin: -1px;overflow: hidden;padding: 0;position: absolute;width: 1px;}#sk-container-id-1 div.sk-estimator {font-family: monospace;background-color: #f0f8ff;border: 1px dotted black;border-radius: 0.25em;box-sizing: border-box;margin-bottom: 0.5em;}#sk-container-id-1 div.sk-estimator:hover {background-color: #d4ebff;}#sk-container-id-1 div.sk-parallel-item::after {content: \"\";width: 100%;border-bottom: 1px solid gray;flex-grow: 1;}#sk-container-id-1 div.sk-label:hover label.sk-toggleable__label {background-color: #d4ebff;}#sk-container-id-1 div.sk-serial::before {content: \"\";position: absolute;border-left: 1px solid gray;box-sizing: border-box;top: 0;bottom: 0;left: 50%;z-index: 0;}#sk-container-id-1 div.sk-serial {display: flex;flex-direction: column;align-items: center;background-color: white;padding-right: 0.2em;padding-left: 0.2em;position: relative;}#sk-container-id-1 div.sk-item {position: relative;z-index: 1;}#sk-container-id-1 div.sk-parallel {display: flex;align-items: stretch;justify-content: center;background-color: white;position: relative;}#sk-container-id-1 div.sk-item::before, #sk-container-id-1 div.sk-parallel-item::before {content: \"\";position: absolute;border-left: 1px solid gray;box-sizing: border-box;top: 0;bottom: 0;left: 50%;z-index: -1;}#sk-container-id-1 div.sk-parallel-item {display: flex;flex-direction: column;z-index: 1;position: relative;background-color: white;}#sk-container-id-1 div.sk-parallel-item:first-child::after {align-self: flex-end;width: 50%;}#sk-container-id-1 div.sk-parallel-item:last-child::after {align-self: flex-start;width: 50%;}#sk-container-id-1 div.sk-parallel-item:only-child::after {width: 0;}#sk-container-id-1 div.sk-dashed-wrapped {border: 1px dashed gray;margin: 0 0.4em 0.5em 0.4em;box-sizing: border-box;padding-bottom: 0.4em;background-color: white;}#sk-container-id-1 div.sk-label label {font-family: monospace;font-weight: bold;display: inline-block;line-height: 1.2em;}#sk-container-id-1 div.sk-label-container {text-align: center;}#sk-container-id-1 div.sk-container {/* jupyter's `normalize.less` sets `[hidden] { display: none; }` but bootstrap.min.css set `[hidden] { display: none !important; }` so we also need the `!important` here to be able to override the default hidden behavior on the sphinx rendered scikit-learn.org. See: https://github.com/scikit-learn/scikit-learn/issues/21755 */display: inline-block !important;position: relative;}#sk-container-id-1 div.sk-text-repr-fallback {display: none;}</style><div id=\"sk-container-id-1\" class=\"sk-top-container\"><div class=\"sk-text-repr-fallback\"><pre>RandomForestClassifier(random_state=42)</pre><b>In a Jupyter environment, please rerun this cell to show the HTML representation or trust the notebook. <br />On GitHub, the HTML representation is unable to render, please try loading this page with nbviewer.org.</b></div><div class=\"sk-container\" hidden><div class=\"sk-item\"><div class=\"sk-estimator sk-toggleable\"><input class=\"sk-toggleable__control sk-hidden--visually\" id=\"sk-estimator-id-1\" type=\"checkbox\" checked><label for=\"sk-estimator-id-1\" class=\"sk-toggleable__label sk-toggleable__label-arrow\">RandomForestClassifier</label><div class=\"sk-toggleable__content\"><pre>RandomForestClassifier(random_state=42)</pre></div></div></div></div></div>"
      ],
      "text/plain": [
       "RandomForestClassifier(random_state=42)"
      ]
     },
     "execution_count": 44,
     "metadata": {},
     "output_type": "execute_result"
    }
   ],
   "source": [
    "clf = RandomForestClassifier(n_estimators=100, random_state=42) \n",
    "clf.fit(x_train, np.ravel(y_train))"
   ]
  },
  {
   "cell_type": "code",
   "execution_count": 45,
   "id": "6fffda04",
   "metadata": {
    "execution": {
     "iopub.execute_input": "2023-10-10T18:55:27.377337Z",
     "iopub.status.busy": "2023-10-10T18:55:27.376598Z",
     "iopub.status.idle": "2023-10-10T18:55:27.393687Z",
     "shell.execute_reply": "2023-10-10T18:55:27.392342Z"
    },
    "papermill": {
     "duration": 0.034066,
     "end_time": "2023-10-10T18:55:27.395840",
     "exception": false,
     "start_time": "2023-10-10T18:55:27.361774",
     "status": "completed"
    },
    "tags": []
   },
   "outputs": [
    {
     "name": "stdout",
     "output_type": "stream",
     "text": [
      "42\n"
     ]
    }
   ],
   "source": [
    "rf_predictions = clf.predict(x_test)\n",
    "print(len(rf_predictions))"
   ]
  },
  {
   "cell_type": "code",
   "execution_count": 46,
   "id": "d2273d7e",
   "metadata": {
    "execution": {
     "iopub.execute_input": "2023-10-10T18:55:27.425453Z",
     "iopub.status.busy": "2023-10-10T18:55:27.424801Z",
     "iopub.status.idle": "2023-10-10T18:55:27.436920Z",
     "shell.execute_reply": "2023-10-10T18:55:27.435755Z"
    },
    "papermill": {
     "duration": 0.03007,
     "end_time": "2023-10-10T18:55:27.439527",
     "exception": false,
     "start_time": "2023-10-10T18:55:27.409457",
     "status": "completed"
    },
    "tags": []
   },
   "outputs": [
    {
     "name": "stdout",
     "output_type": "stream",
     "text": [
      "Mean Absolute Error: 0.0\n",
      "Mean Squared Error: 0.0\n",
      "R-squared: 1.0\n"
     ]
    }
   ],
   "source": [
    "from sklearn.metrics import mean_absolute_error, mean_squared_error, r2_score\n",
    "mae = mean_absolute_error(y_test, rf_predictions)\n",
    "mse = mean_squared_error(y_test, rf_predictions)\n",
    "r2 = r2_score(y_test, rf_predictions)\n",
    "\n",
    "print(\"Mean Absolute Error:\", mae)\n",
    "print(\"Mean Squared Error:\", mse)\n",
    "print(\"R-squared:\", r2)"
   ]
  },
  {
   "cell_type": "code",
   "execution_count": 47,
   "id": "82298250",
   "metadata": {
    "execution": {
     "iopub.execute_input": "2023-10-10T18:55:27.476213Z",
     "iopub.status.busy": "2023-10-10T18:55:27.475821Z",
     "iopub.status.idle": "2023-10-10T18:55:27.481703Z",
     "shell.execute_reply": "2023-10-10T18:55:27.480392Z"
    },
    "papermill": {
     "duration": 0.027843,
     "end_time": "2023-10-10T18:55:27.484273",
     "exception": false,
     "start_time": "2023-10-10T18:55:27.456430",
     "status": "completed"
    },
    "tags": []
   },
   "outputs": [],
   "source": [
    "count=0\n",
    "for i in range(41):\n",
    "    if(rf_predictions[i]-original[i]!=0):\n",
    "        count+=1\n",
    "\n",
    "rf_Test_accuracy=(42-count)/42*100"
   ]
  },
  {
   "cell_type": "code",
   "execution_count": 48,
   "id": "d62464a6",
   "metadata": {
    "execution": {
     "iopub.execute_input": "2023-10-10T18:55:27.517278Z",
     "iopub.status.busy": "2023-10-10T18:55:27.516890Z",
     "iopub.status.idle": "2023-10-10T18:55:27.522418Z",
     "shell.execute_reply": "2023-10-10T18:55:27.521105Z"
    },
    "papermill": {
     "duration": 0.025099,
     "end_time": "2023-10-10T18:55:27.524648",
     "exception": false,
     "start_time": "2023-10-10T18:55:27.499549",
     "status": "completed"
    },
    "tags": []
   },
   "outputs": [
    {
     "name": "stdout",
     "output_type": "stream",
     "text": [
      "Random Forest Test Accuracy: 100.0 %\n"
     ]
    }
   ],
   "source": [
    "print(f\"Random Forest Test Accuracy:\",Test_accuracy,'%')"
   ]
  },
  {
   "cell_type": "code",
   "execution_count": 32,
   "id": "ad706166",
   "metadata": {},
   "outputs": [],
   "source": [
    "disease_names = ['Fungal infection', 'Allergy', 'GERD', 'Chronic cholestasis',\n",
    "       'Drug Reaction', 'Peptic ulcer diseae', 'AIDS', 'Diabetes ',\n",
    "       'Gastroenteritis', 'Bronchial Asthma', 'Hypertension ', 'Migraine',\n",
    "       'Cervical spondylosis', 'Paralysis (brain hemorrhage)', 'Jaundice',\n",
    "       'Malaria', 'Chicken pox', 'Dengue', 'Typhoid', 'hepatitis A',\n",
    "       'Hepatitis B', 'Hepatitis C', 'Hepatitis D', 'Hepatitis E',\n",
    "       'Alcoholic hepatitis', 'Tuberculosis', 'Common Cold', 'Pneumonia',\n",
    "       'Dimorphic hemmorhoids(piles)', 'Heart attack', 'Varicose veins',\n",
    "       'Hypothyroidism', 'Hyperthyroidism', 'Hypoglycemia',\n",
    "       'Osteoarthristis', 'Arthritis',\n",
    "       '(vertigo) Paroymsal  Positional Vertigo', 'Acne',\n",
    "       'Urinary tract infection', 'Psoriasis', 'Impetigo']"
   ]
  },
  {
   "cell_type": "code",
   "execution_count": 33,
   "id": "6927be3e",
   "metadata": {},
   "outputs": [
    {
     "data": {
      "text/plain": [
       "'Fungal infection'"
      ]
     },
     "execution_count": 33,
     "metadata": {},
     "output_type": "execute_result"
    }
   ],
   "source": [
    "disease_names[0]"
   ]
  },
  {
   "cell_type": "markdown",
   "id": "0835a677",
   "metadata": {
    "papermill": {
     "duration": 0.01446,
     "end_time": "2023-10-10T18:55:27.553734",
     "exception": false,
     "start_time": "2023-10-10T18:55:27.539274",
     "status": "completed"
    },
    "tags": []
   },
   "source": [
    "## Saving the Model"
   ]
  },
  {
   "cell_type": "code",
   "execution_count": null,
   "id": "e4cd6c7a",
   "metadata": {},
   "outputs": [],
   "source": []
  },
  {
   "cell_type": "code",
   "execution_count": 50,
   "id": "cf4c0546",
   "metadata": {
    "execution": {
     "iopub.execute_input": "2023-10-10T18:55:27.584406Z",
     "iopub.status.busy": "2023-10-10T18:55:27.584022Z",
     "iopub.status.idle": "2023-10-10T18:55:27.588826Z",
     "shell.execute_reply": "2023-10-10T18:55:27.587485Z"
    },
    "papermill": {
     "duration": 0.023527,
     "end_time": "2023-10-10T18:55:27.591276",
     "exception": false,
     "start_time": "2023-10-10T18:55:27.567749",
     "status": "completed"
    },
    "tags": []
   },
   "outputs": [],
   "source": [
    "from joblib import dump,load"
   ]
  },
  {
   "cell_type": "code",
   "execution_count": 39,
   "id": "2a4b2973",
   "metadata": {
    "execution": {
     "iopub.execute_input": "2023-10-10T18:55:27.622538Z",
     "iopub.status.busy": "2023-10-10T18:55:27.621707Z",
     "iopub.status.idle": "2023-10-10T18:55:27.689132Z",
     "shell.execute_reply": "2023-10-10T18:55:27.687814Z"
    },
    "papermill": {
     "duration": 0.085317,
     "end_time": "2023-10-10T18:55:27.691693",
     "exception": false,
     "start_time": "2023-10-10T18:55:27.606376",
     "status": "completed"
    },
    "tags": []
   },
   "outputs": [
    {
     "data": {
      "text/plain": [
       "['rf_model.joblib']"
      ]
     },
     "execution_count": 39,
     "metadata": {},
     "output_type": "execute_result"
    }
   ],
   "source": [
    "filename = 'rf_model.joblib'\n",
    "model = clf\n",
    "dump(model, filename)"
   ]
  },
  {
   "cell_type": "code",
   "execution_count": 51,
   "id": "968d865d",
   "metadata": {
    "execution": {
     "iopub.execute_input": "2023-10-10T18:55:27.722210Z",
     "iopub.status.busy": "2023-10-10T18:55:27.721862Z",
     "iopub.status.idle": "2023-10-10T18:55:27.781212Z",
     "shell.execute_reply": "2023-10-10T18:55:27.780043Z"
    },
    "papermill": {
     "duration": 0.077861,
     "end_time": "2023-10-10T18:55:27.784010",
     "exception": false,
     "start_time": "2023-10-10T18:55:27.706149",
     "status": "completed"
    },
    "tags": []
   },
   "outputs": [],
   "source": [
    "ml_model=load('rf_model.joblib')"
   ]
  },
  {
   "cell_type": "code",
   "execution_count": 63,
   "id": "73cd13e2",
   "metadata": {},
   "outputs": [],
   "source": [
    "da_list = da.iloc[0].to_list()"
   ]
  },
  {
   "cell_type": "code",
   "execution_count": 64,
   "id": "6e62df79",
   "metadata": {},
   "outputs": [
    {
     "name": "stderr",
     "output_type": "stream",
     "text": [
      "C:\\Users\\ThisPC\\AppData\\Roaming\\Python\\Python310\\site-packages\\sklearn\\base.py:450: UserWarning: X does not have valid feature names, but RandomForestClassifier was fitted with feature names\n",
      "  warnings.warn(\n"
     ]
    },
    {
     "data": {
      "text/plain": [
       "'Allergy'"
      ]
     },
     "execution_count": 64,
     "metadata": {},
     "output_type": "execute_result"
    }
   ],
   "source": [
    "da_arr = np.array(da_list)\n",
    "da_arr = da_arr.reshape(1,-1)\n",
    "\n",
    "# Make the prediction\n",
    "prediction = ml_model.predict(da_arr)\n",
    "prediction\n",
    "dis = prediction[0]\n",
    "disease_classes[dis]\n"
   ]
  },
  {
   "cell_type": "code",
   "execution_count": 45,
   "id": "02666802",
   "metadata": {
    "execution": {
     "iopub.execute_input": "2023-10-10T18:55:27.813895Z",
     "iopub.status.busy": "2023-10-10T18:55:27.813211Z",
     "iopub.status.idle": "2023-10-10T18:55:27.826152Z",
     "shell.execute_reply": "2023-10-10T18:55:27.824738Z"
    },
    "papermill": {
     "duration": 0.030189,
     "end_time": "2023-10-10T18:55:27.828277",
     "exception": false,
     "start_time": "2023-10-10T18:55:27.798088",
     "status": "completed"
    },
    "tags": []
   },
   "outputs": [
    {
     "name": "stderr",
     "output_type": "stream",
     "text": [
      "C:\\Users\\ThisPC\\AppData\\Roaming\\Python\\Python310\\site-packages\\sklearn\\base.py:450: UserWarning: X does not have valid feature names, but RandomForestClassifier was fitted with feature names\n",
      "  warnings.warn(\n"
     ]
    },
    {
     "data": {
      "text/plain": [
       "'Common Cold'"
      ]
     },
     "execution_count": 45,
     "metadata": {},
     "output_type": "execute_result"
    }
   ],
   "source": [
    "inp = np.array([1, 0, 0, 0, 0, 1, 1, 0, 1, 1, 1, 0, 0, 0, 1, 1, 0, 1, 0, 1, 0, 0, 0, 0, 1, 1, 1, 1, 1, 0, 1, 0, 1, 1, 1, 0, 0, 1, 0, 1, 1, 0, 0, 0, 0, 0, 1, 1])\n",
    "\n",
    "# Reshape the 1D array into a 2D array with 1 row and 48 columns\n",
    "inp = inp.reshape(1,-1)\n",
    "\n",
    "# Make the prediction\n",
    "prediction = ml_model.predict(inp)\n",
    "dis = prediction[0]\n",
    "disease_names[dis]"
   ]
  },
  {
   "cell_type": "code",
   "execution_count": 65,
   "id": "665cc7b2",
   "metadata": {},
   "outputs": [
    {
     "data": {
      "text/plain": [
       "'Fungal infection'"
      ]
     },
     "execution_count": 65,
     "metadata": {},
     "output_type": "execute_result"
    }
   ],
   "source": [
    "#dis = prediction[0]\n",
    "disease_names[0]"
   ]
  },
  {
   "cell_type": "code",
   "execution_count": 96,
   "id": "86cf1217",
   "metadata": {},
   "outputs": [],
   "source": [
    "# inp = inp = [1, 0, 0, 0, 0, 1, 1, 0, 1, 1, 1, 0, 0, 0, 1, 1, 0, 1, 0, 1, 0, 0, 0, 0, 1, 1, 1, 1, 1, 0, 1, 0, 1, 1, 1, 0, 0, 1, 0, 1, 1, 0, 0, 0, 0, 0, 1, 1]\n",
    "# data = dis_data(inp)\n",
    "# data = data.reshape(1,-1)\n",
    "\n",
    "# # Make the prediction\n",
    "# prediction = ml_model.predict(inp)\n",
    "# print(prediction)"
   ]
  },
  {
   "cell_type": "code",
   "execution_count": 30,
   "id": "ba0a7d71",
   "metadata": {},
   "outputs": [
    {
     "name": "stdout",
     "output_type": "stream",
     "text": [
      "[26]\n"
     ]
    },
    {
     "name": "stderr",
     "output_type": "stream",
     "text": [
      "C:\\Users\\ThisPC\\AppData\\Roaming\\Python\\Python310\\site-packages\\sklearn\\base.py:450: UserWarning: X does not have valid feature names, but RandomForestClassifier was fitted with feature names\n",
      "  warnings.warn(\n"
     ]
    }
   ],
   "source": [
    "inp = np.array([1, 0, 0, 1, 0, 1, 1, 0, 1, 1, 1, 1, 0, 0, 1, 1, 0, 1, 0, 1, 0, 0, 0, 1, 1, 1, 1, 1, 1, 0, 1, 0, 1, 1, 1, 0, 0, 1, 0, 1, 1, 0, 0, 0, 0, 0, 1, 1])\n",
    "\n",
    "# Reshape the 1D array into a 2D array with 1 row and 48 columns\n",
    "inp = inp.reshape(1,-1)\n",
    "\n",
    "# Make the prediction\n",
    "prediction = ml_model.predict(inp)\n",
    "print(prediction)"
   ]
  },
  {
   "cell_type": "code",
   "execution_count": 36,
   "id": "5eb56f48",
   "metadata": {
    "execution": {
     "iopub.execute_input": "2023-10-10T18:55:27.859883Z",
     "iopub.status.busy": "2023-10-10T18:55:27.859492Z",
     "iopub.status.idle": "2023-10-10T18:55:27.864137Z",
     "shell.execute_reply": "2023-10-10T18:55:27.863128Z"
    },
    "papermill": {
     "duration": 0.022769,
     "end_time": "2023-10-10T18:55:27.866148",
     "exception": false,
     "start_time": "2023-10-10T18:55:27.843379",
     "status": "completed"
    },
    "tags": []
   },
   "outputs": [],
   "source": [
    "# -----------------------------------------------------------------END OF THE NOTEBOOK--------------------------------------------------------------"
   ]
  }
 ],
 "metadata": {
  "kernelspec": {
   "display_name": "Python 3",
   "language": "python",
   "name": "python3"
  },
  "language_info": {
   "codemirror_mode": {
    "name": "ipython",
    "version": 3
   },
   "file_extension": ".py",
   "mimetype": "text/x-python",
   "name": "python",
   "nbconvert_exporter": "python",
   "pygments_lexer": "ipython3",
   "version": "3.10.12"
  },
  "papermill": {
   "default_parameters": {},
   "duration": 27.372735,
   "end_time": "2023-10-10T18:55:29.914409",
   "environment_variables": {},
   "exception": null,
   "input_path": "__notebook__.ipynb",
   "output_path": "__notebook__.ipynb",
   "parameters": {},
   "start_time": "2023-10-10T18:55:02.541674",
   "version": "2.4.0"
  }
 },
 "nbformat": 4,
 "nbformat_minor": 5
}
